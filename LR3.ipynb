{
  "cells": [
    {
      "cell_type": "code",
      "execution_count": 1,
      "metadata": {
        "colab": {
          "base_uri": "https://localhost:8080/"
        },
        "id": "6uFcSuJjKsZ1",
        "outputId": "e0cda2f8-0bb6-4cb1-ff06-cf376dba0076"
      },
      "outputs": [
        {
          "output_type": "stream",
          "name": "stdout",
          "text": [
            "Collecting pytorch-nlp\n",
            "  Downloading pytorch_nlp-0.5.0-py3-none-any.whl (90 kB)\n",
            "\u001b[?25l     \u001b[90m━━━━━━━━━━━━━━━━━━━━━━━━━━━━━━━━━━━━━━━━\u001b[0m \u001b[32m0.0/90.1 kB\u001b[0m \u001b[31m?\u001b[0m eta \u001b[36m-:--:--\u001b[0m\r\u001b[2K     \u001b[91m━━━━━━━━━━━━━\u001b[0m\u001b[91m╸\u001b[0m\u001b[90m━━━━━━━━━━━━━━━━━━━━━━━━━━\u001b[0m \u001b[32m30.7/90.1 kB\u001b[0m \u001b[31m1.1 MB/s\u001b[0m eta \u001b[36m0:00:01\u001b[0m\r\u001b[2K     \u001b[90m━━━━━━━━━━━━━━━━━━━━━━━━━━━━━━━━━━━━━━━━\u001b[0m \u001b[32m90.1/90.1 kB\u001b[0m \u001b[31m1.5 MB/s\u001b[0m eta \u001b[36m0:00:00\u001b[0m\n",
            "\u001b[?25hRequirement already satisfied: numpy in /usr/local/lib/python3.10/dist-packages (from pytorch-nlp) (1.23.5)\n",
            "Requirement already satisfied: tqdm in /usr/local/lib/python3.10/dist-packages (from pytorch-nlp) (4.66.1)\n",
            "Installing collected packages: pytorch-nlp\n",
            "Successfully installed pytorch-nlp-0.5.0\n"
          ]
        }
      ],
      "source": [
        "!pip install pytorch-nlp\n"
      ]
    },
    {
      "cell_type": "code",
      "execution_count": 2,
      "metadata": {
        "id": "Zl0I6XL3KeKv"
      },
      "outputs": [],
      "source": [
        "import codecs\n",
        "import pandas as pd\n",
        "\n",
        "import torch\n",
        "import torchtext\n",
        "import numpy as np\n",
        "import torchtext\n",
        "import pandas\n",
        "import collections\n",
        "import collections\n",
        "from torchnlp import *\n",
        "from torch.optim import lr_scheduler\n",
        "import shutil"
      ]
    },
    {
      "cell_type": "code",
      "execution_count": 3,
      "metadata": {
        "id": "S5r-jS69UmIr"
      },
      "outputs": [],
      "source": [
        "device = torch.device(\"cuda:0\" if torch.cuda.is_available() else \"cpu\")\n"
      ]
    },
    {
      "cell_type": "markdown",
      "metadata": {
        "id": "LiTeY56_NNHp"
      },
      "source": [
        "### Перевод в csv"
      ]
    },
    {
      "cell_type": "code",
      "execution_count": 4,
      "metadata": {
        "colab": {
          "base_uri": "https://localhost:8080/"
        },
        "id": "dbG8XkRON6nh",
        "outputId": "24b4bd88-1eb7-4459-a571-d361aa188ce8"
      },
      "outputs": [
        {
          "output_type": "stream",
          "name": "stdout",
          "text": [
            "Mounted at /content/drive\n"
          ]
        }
      ],
      "source": [
        "from google.colab import drive\n",
        "drive.mount('/content/drive')"
      ]
    },
    {
      "cell_type": "code",
      "execution_count": 6,
      "metadata": {
        "id": "U2dqy-BGKqb4",
        "colab": {
          "base_uri": "https://localhost:8080/",
          "height": 366
        },
        "outputId": "c2828454-5481-4da5-987b-525b77a62084"
      },
      "outputs": [
        {
          "output_type": "error",
          "ename": "FileNotFoundError",
          "evalue": "ignored",
          "traceback": [
            "\u001b[0;31m---------------------------------------------------------------------------\u001b[0m",
            "\u001b[0;31mFileNotFoundError\u001b[0m                         Traceback (most recent call last)",
            "\u001b[0;32m<ipython-input-6-5a9bea4946bf>\u001b[0m in \u001b[0;36m<cell line: 2>\u001b[0;34m()\u001b[0m\n\u001b[1;32m      1\u001b[0m \u001b[0mdf\u001b[0m \u001b[0;34m=\u001b[0m \u001b[0mpd\u001b[0m\u001b[0;34m.\u001b[0m\u001b[0mDataFrame\u001b[0m\u001b[0;34m(\u001b[0m \u001b[0mcolumns\u001b[0m\u001b[0;34m=\u001b[0m\u001b[0;34m[\u001b[0m\u001b[0;34m'lable'\u001b[0m\u001b[0;34m,\u001b[0m \u001b[0;34m'text'\u001b[0m\u001b[0;34m]\u001b[0m\u001b[0;34m)\u001b[0m\u001b[0;34m\u001b[0m\u001b[0;34m\u001b[0m\u001b[0m\n\u001b[0;32m----> 2\u001b[0;31m \u001b[0;32mwith\u001b[0m \u001b[0mcodecs\u001b[0m\u001b[0;34m.\u001b[0m\u001b[0mopen\u001b[0m\u001b[0;34m(\u001b[0m \u001b[0;34m\"/content/drive/MyDrive/works/Пушкин Александр. Капитанская дочка.txt\"\u001b[0m\u001b[0;34m,\u001b[0m \u001b[0;34m\"r\"\u001b[0m\u001b[0;34m,\u001b[0m \u001b[0;34m\"utf_8\"\u001b[0m \u001b[0;34m)\u001b[0m \u001b[0;32mas\u001b[0m \u001b[0mfile\u001b[0m\u001b[0;34m:\u001b[0m\u001b[0;34m\u001b[0m\u001b[0;34m\u001b[0m\u001b[0m\n\u001b[0m\u001b[1;32m      3\u001b[0m     \u001b[0mlines\u001b[0m\u001b[0;34m=\u001b[0m\u001b[0mfile\u001b[0m\u001b[0;34m.\u001b[0m\u001b[0mreadlines\u001b[0m\u001b[0;34m(\u001b[0m\u001b[0;34m)\u001b[0m\u001b[0;34m\u001b[0m\u001b[0;34m\u001b[0m\u001b[0m\n\u001b[1;32m      4\u001b[0m     \u001b[0;32mfor\u001b[0m \u001b[0mline\u001b[0m \u001b[0;32min\u001b[0m \u001b[0mlines\u001b[0m\u001b[0;34m:\u001b[0m\u001b[0;34m\u001b[0m\u001b[0;34m\u001b[0m\u001b[0m\n\u001b[1;32m      5\u001b[0m         \u001b[0;31m# line = file.readline()\u001b[0m\u001b[0;34m\u001b[0m\u001b[0;34m\u001b[0m\u001b[0m\n",
            "\u001b[0;32m/usr/lib/python3.10/codecs.py\u001b[0m in \u001b[0;36mopen\u001b[0;34m(filename, mode, encoding, errors, buffering)\u001b[0m\n\u001b[1;32m    904\u001b[0m         \u001b[0;31m# Force opening of the file in binary mode\u001b[0m\u001b[0;34m\u001b[0m\u001b[0;34m\u001b[0m\u001b[0m\n\u001b[1;32m    905\u001b[0m         \u001b[0mmode\u001b[0m \u001b[0;34m=\u001b[0m \u001b[0mmode\u001b[0m \u001b[0;34m+\u001b[0m \u001b[0;34m'b'\u001b[0m\u001b[0;34m\u001b[0m\u001b[0;34m\u001b[0m\u001b[0m\n\u001b[0;32m--> 906\u001b[0;31m     \u001b[0mfile\u001b[0m \u001b[0;34m=\u001b[0m \u001b[0mbuiltins\u001b[0m\u001b[0;34m.\u001b[0m\u001b[0mopen\u001b[0m\u001b[0;34m(\u001b[0m\u001b[0mfilename\u001b[0m\u001b[0;34m,\u001b[0m \u001b[0mmode\u001b[0m\u001b[0;34m,\u001b[0m \u001b[0mbuffering\u001b[0m\u001b[0;34m)\u001b[0m\u001b[0;34m\u001b[0m\u001b[0;34m\u001b[0m\u001b[0m\n\u001b[0m\u001b[1;32m    907\u001b[0m     \u001b[0;32mif\u001b[0m \u001b[0mencoding\u001b[0m \u001b[0;32mis\u001b[0m \u001b[0;32mNone\u001b[0m\u001b[0;34m:\u001b[0m\u001b[0;34m\u001b[0m\u001b[0;34m\u001b[0m\u001b[0m\n\u001b[1;32m    908\u001b[0m         \u001b[0;32mreturn\u001b[0m \u001b[0mfile\u001b[0m\u001b[0;34m\u001b[0m\u001b[0;34m\u001b[0m\u001b[0m\n",
            "\u001b[0;31mFileNotFoundError\u001b[0m: [Errno 2] No such file or directory: '/content/drive/MyDrive/works/Пушкин Александр. Капитанская дочка.txt'"
          ]
        }
      ],
      "source": [
        "df = pd.DataFrame( columns=['lable', 'text'])\n",
        "with codecs.open( \"/content/drive/MyDrive/works/Пушкин Александр. Капитанская дочка.txt\", \"r\", \"utf_8\" ) as file:\n",
        "    lines=file.readlines()\n",
        "    for line in lines:\n",
        "        # line = file.readline()\n",
        "        if (line != '\\n') and (line !=\"***\\n\") and (line !=\"...\\n\"):\n",
        "            line=line.replace('\\n', '', 1)\n",
        "            # print(line,type(line))\n",
        "            df.loc[len(df.index)]=[1 , line]\n"
      ]
    },
    {
      "cell_type": "code",
      "execution_count": null,
      "metadata": {
        "id": "S8ejckaoKmdW"
      },
      "outputs": [],
      "source": [
        "df.to_csv(\"/content/drive/MyDrive/works/Pushkin.csv\")"
      ]
    },
    {
      "cell_type": "markdown",
      "metadata": {
        "id": "jZ00lre9TfFs"
      },
      "source": [
        "## Загрузка датасета с токенизацией по словам"
      ]
    },
    {
      "cell_type": "code",
      "execution_count": null,
      "metadata": {
        "id": "HFnCfj6tP8Fq"
      },
      "outputs": [],
      "source": [
        "def load_dataset_HP(ngrams=1,min_freq=1):\n",
        "    global vocab, tokenizer\n",
        "    train_dataset = pandas.read_csv('/content/drive/MyDrive/works/Pushkin.csv')[\"text\"]\n",
        "    train_dataset = list(train_dataset)\n",
        "    counter = collections.Counter()\n",
        "    for line in train_dataset:\n",
        "        counter.update(torchtext.data.utils.ngrams_iterator(tokenizer(str(line)),ngrams=ngrams))\n",
        "    vocab = torchtext.vocab.vocab(counter, min_freq=min_freq)\n",
        "    return train_dataset,vocab\n",
        "\n",
        "tokenizer = torchtext.data.utils.get_tokenizer('basic_english')\n",
        "\n",
        "train_dataset,vocab_slov=load_dataset_HP()\n",
        "vocab_size_slov = len(vocab_slov)"
      ]
    },
    {
      "cell_type": "markdown",
      "metadata": {
        "id": "RCSg99rgTkno"
      },
      "source": [
        "### Посимвольная токенизация"
      ]
    },
    {
      "cell_type": "code",
      "execution_count": null,
      "metadata": {
        "id": "0EYAya6wP8HE"
      },
      "outputs": [],
      "source": [
        "def char_tokenizer(words):\n",
        "    return list(words) #[word for word in words]\n",
        "\n",
        "counter = collections.Counter()\n",
        "for line in train_dataset:\n",
        "    counter.update(char_tokenizer(str(line)))\n",
        "vocab = torchtext.vocab.vocab(counter)\n",
        "\n",
        "vocab_size = len(vocab)\n",
        "\n"
      ]
    },
    {
      "cell_type": "markdown",
      "metadata": {
        "id": "oJgekWEsTsk3"
      },
      "source": [
        "### Функции Кодирования токенов"
      ]
    },
    {
      "cell_type": "code",
      "execution_count": null,
      "metadata": {
        "id": "L16p-N6UP8JP"
      },
      "outputs": [],
      "source": [
        "stoi_hash = {}\n",
        "def encode(x,voc=None,unk=0,tokenizer=tokenizer):\n",
        "    global stoi_hash\n",
        "    v = vocab if voc is None else voc\n",
        "    if v in stoi_hash.keys():\n",
        "        stoi = stoi_hash[v]\n",
        "    else:\n",
        "        stoi = v.get_stoi()\n",
        "        stoi_hash[v]=stoi\n",
        "    return [stoi.get(s,unk) for s in tokenizer(x)]"
      ]
    },
    {
      "cell_type": "code",
      "execution_count": null,
      "metadata": {
        "id": "-TfXwqfJP8LP"
      },
      "outputs": [],
      "source": [
        "## Ф-ии Кодирование токинов по словам\n",
        "def enc_slov(x):\n",
        "    return torch.LongTensor(encode(x,voc=vocab_slov,tokenizer=tokenizer))"
      ]
    },
    {
      "cell_type": "code",
      "execution_count": null,
      "metadata": {
        "id": "x6feCiJHTuCZ"
      },
      "outputs": [],
      "source": [
        "## Ф-ии Кодирование токинов по символам\n",
        "def enc(x):\n",
        "    return torch.LongTensor(encode(x,voc=vocab,tokenizer=char_tokenizer))"
      ]
    },
    {
      "cell_type": "markdown",
      "metadata": {
        "id": "Qt3LypOuUEok"
      },
      "source": [
        "### Функция Создания Батча в эпохе"
      ]
    },
    {
      "cell_type": "code",
      "execution_count": null,
      "metadata": {
        "id": "rA5GQoOwTuDr"
      },
      "outputs": [],
      "source": [
        "def get_batch(s,nchars=10):\n",
        "    ins = torch.zeros(len(s)-nchars,nchars,dtype=torch.long,device=device)\n",
        "    outs = torch.zeros(len(s)-nchars,nchars,dtype=torch.long,device=device)\n",
        "    for i in range(len(s)-nchars):\n",
        "        ins[i] = enc(s[i:i+nchars])\n",
        "        outs[i] = enc(s[i+1:i+nchars+1])\n",
        "    return ins,outs"
      ]
    },
    {
      "cell_type": "code",
      "execution_count": null,
      "metadata": {
        "id": "iAa8SB1sTuF2"
      },
      "outputs": [],
      "source": [
        "def get_batch_slov(s,nchars=10):\n",
        "    leng = len(enc_slov(s))\n",
        "    inps = torch.zeros(leng-nchars,nchars,dtype=torch.long,device=device)\n",
        "    outs = torch.zeros(leng-nchars,nchars,dtype=torch.long,device=device)\n",
        "    for i in range(leng-nchars):\n",
        "        inps[i] = enc_slov(s)[i:i+nchars]\n",
        "        outs[i] = enc_slov(s)[i+1:i+nchars+1]\n",
        "    return inps,outs"
      ]
    },
    {
      "cell_type": "markdown",
      "metadata": {
        "id": "rKjgLLfJUcyM"
      },
      "source": [
        "## Генератор следующией послдовательности символов/слов"
      ]
    },
    {
      "cell_type": "code",
      "execution_count": null,
      "metadata": {
        "id": "5L34D9eLTuHq"
      },
      "outputs": [],
      "source": [
        "def generate(net,size=100,start='Сегодня '):\n",
        "    chars = list(start)\n",
        "    out = net(enc(chars).view(1,-1).to(device))\n",
        "    for i in range(size):\n",
        "        nc = torch.argmax(out[0][-1])\n",
        "        chars.append(vocab.get_itos()[nc])\n",
        "        out = net(nc.view(1,-1))\n",
        "    return ''.join(chars)\n",
        "\n",
        "def generate_slov(net,size=100,start='Сегодня '):\n",
        "    chars = start\n",
        "    out = net(enc_slov(start).view(1,-1).to(device))\n",
        "    for i in range(size):\n",
        "        nc = torch.argmax(out[0][-1])\n",
        "        chars+= \" \" + (vocab_slov.get_itos()[nc])\n",
        "        out = net(nc.view(1,-1))\n",
        "    return ''.join(chars)"
      ]
    },
    {
      "cell_type": "markdown",
      "metadata": {
        "id": "TW5WiUF1UuzM"
      },
      "source": [
        "## Мягкая генерация"
      ]
    },
    {
      "cell_type": "code",
      "execution_count": null,
      "metadata": {
        "id": "MJVnHTOMKmoc"
      },
      "outputs": [],
      "source": [
        "def generate_soft(net,size=100,start='Сегодня маг ',temperature=1.0,enc=enc):\n",
        "    chars = list(start)\n",
        "    out = net(enc(chars).view(1,-1).to(device))\n",
        "    for i in range(size):\n",
        "        #nc = torch.argmax(out[0][-1])\n",
        "        out_dist = out[0][-1].div(temperature).exp()\n",
        "        nc = torch.multinomial(out_dist,1)[0]\n",
        "        chars.append(vocab.get_itos()[nc])\n",
        "        out = net(nc.view(1,-1))\n",
        "    return ''.join(chars)\n",
        "\n",
        "def generate_soft_slov(net,size=100,start='Сегодня маг ',temperature=1.0,enc=enc):\n",
        "    chars = start\n",
        "    out = net(enc_slov(chars).view(1,-1).to(device))\n",
        "    for i in range(size):\n",
        "        #nc = torch.argmax(out[0][-1])\n",
        "        out_dist = out[0][-1].div(temperature).exp()\n",
        "        nc = torch.multinomial(out_dist,1)[0]\n",
        "        chars += \" \" + vocab_slov.get_itos()[nc]\n",
        "        out = net(nc.view(1,-1))\n",
        "    return ''.join(chars)\n"
      ]
    },
    {
      "cell_type": "markdown",
      "metadata": {
        "id": "7JLOVnYcU0u-"
      },
      "source": [
        "## Ф-ия обучения"
      ]
    },
    {
      "cell_type": "code",
      "execution_count": null,
      "metadata": {
        "id": "cWZ_8R5LU0Mi"
      },
      "outputs": [],
      "source": [
        "def train(net,train_dataset,val_dataset,num_epochs, optimizer, scheduler, get_batch, generate, slov = False):\n",
        "    for epoch in range(num_epochs):\n",
        "        print(f\"Epoch {epoch}/{num_epochs}\")\n",
        "        for phase in [\"T\",\"V\"]:\n",
        "            if phase == 'T':\n",
        "                net.train()  # Установить модель в режим обучения\n",
        "                dataset=train_dataset\n",
        "            else:\n",
        "                net.eval()   #Установить модель в режим оценки\n",
        "                dataset=val_dataset\n",
        "\n",
        "            epoch_loss = 0.0\n",
        "            for i,x in enumerate(dataset):\n",
        "\n",
        "                # x[0] is class label, x is text\n",
        "                if slov:\n",
        "                    leng = len(enc_slov(str(x)))\n",
        "                else:\n",
        "                    leng = len(str(x))\n",
        "\n",
        "                if leng-nchars<10:\n",
        "                    continue\n",
        "\n",
        "                text_in, text_out = get_batch(x,nchars=nchars)\n",
        "                optimizer.zero_grad()\n",
        "                with torch.set_grad_enabled(phase == 'T'):\n",
        "                    out = net(text_in)\n",
        "                    loss = torch.nn.functional.cross_entropy(out.view(-1,vocab_size),text_out.flatten()) #cross_entropy(out,labels)\n",
        "                    if phase == 'T':\n",
        "                        loss.backward()\n",
        "                        optimizer.step()\n",
        "                    else:\n",
        "                        # scheduler.step(loss.item())\n",
        "                        pass\n",
        "                epoch_loss+=loss.item()\n",
        "                # if i%100==0:\n",
        "                #     print(f\"{i}/{len(dataset)} Current loss {phase} = {epoch_loss/(i+1)}\")\n",
        "            print(f\"Current loss {phase} = {epoch_loss / len(dataset)}\")\n",
        "            if phase == 'V':\n",
        "                print(generate(net,start=test_str))"
      ]
    },
    {
      "cell_type": "markdown",
      "metadata": {
        "id": "SD_kSRjsVHmt"
      },
      "source": [
        "# Обучение Simple RNN с посимвольной и по-словной токенизацией\n"
      ]
    },
    {
      "cell_type": "code",
      "execution_count": null,
      "metadata": {
        "id": "rtvZ_EC2Waqv"
      },
      "outputs": [],
      "source": [
        "class RNNGenerator(torch.nn.Module):\n",
        "    def __init__(self, vocab_size, hidden_dim):\n",
        "        super().__init__()\n",
        "        self.vocab_size=vocab_size\n",
        "        self.rnn = torch.nn.RNN(self.vocab_size,hidden_dim,batch_first=True)\n",
        "        self.fc = torch.nn.Linear(hidden_dim, self.vocab_size)\n",
        "\n",
        "    def forward(self, x):\n",
        "        x = torch.nn.functional.one_hot(x,self.vocab_size).to(torch.float32)\n",
        "        x,h = self.rnn(x)\n",
        "        return self.fc(x)"
      ]
    },
    {
      "cell_type": "code",
      "execution_count": null,
      "metadata": {
        "id": "6hImrZlvU0N1"
      },
      "outputs": [],
      "source": [
        "nchars = 100\n",
        "num_layers=3\n",
        "test_str_orig = \"Я застал его в саду. Он осматривал яблони, обнаженные дыханием осени, и с помощию старого садовника бережно их укутывал теплой соломой. Лицо его изображало спокойствие, здоровье и добродушие.\"\n",
        "test_str_slov = \"Я застал его в саду. Он осматривал яблони, обнаженные дыханием осени,\"\n",
        "test_str = test_str_orig[:nchars]"
      ]
    },
    {
      "cell_type": "markdown",
      "metadata": {
        "id": "8yWHtDlYW7bN"
      },
      "source": [
        "#### Обучение Simple RNN с посимвольной токенизацией"
      ]
    },
    {
      "cell_type": "code",
      "execution_count": null,
      "metadata": {
        "id": "ZfC4XctuVIkO"
      },
      "outputs": [],
      "source": [
        "net=RNNGenerator(vocab_size,nchars).to(device)\n",
        "optimizer = torch.optim.Adam(net.parameters(),0.01)\n",
        "scheduler=lr_scheduler.ReduceLROnPlateau(optimizer, 'min',factor=0.9,patience=50)"
      ]
    },
    {
      "cell_type": "code",
      "execution_count": null,
      "metadata": {
        "colab": {
          "base_uri": "https://localhost:8080/"
        },
        "id": "TD5FoN6BVIlr",
        "outputId": "9cfdb444-db19-4d9f-bc84-40172ba805ec"
      },
      "outputs": [
        {
          "output_type": "stream",
          "name": "stdout",
          "text": [
            "Epoch 0/50\n",
            "Current loss T = 0.6193647138975762\n",
            "Current loss V = 0.5963792931120675\n",
            "Я застал его в саду. Он осматривал яблони, обнаженные дыханием осени, и с помощию старого садовника во во во во во во во во во во во во во во во во во во во во во во во во во во во во во во во во во в\n",
            "Epoch 1/50\n",
            "Current loss T = 0.5489836250608032\n",
            "Current loss V = 0.5539496049687669\n",
            "Я застал его в саду. Он осматривал яблони, обнаженные дыханием осени, и с помощию старого садовника во во во во во во во во во во во во во во во во во во во во во во во во во во во во во во во во во в\n",
            "Epoch 2/50\n",
            "Current loss T = 0.5310682544300148\n",
            "Current loss V = 0.5493123007787241\n",
            "Я застал его в саду. Он осматривал яблони, обнаженные дыханием осени, и с помощию старого садовника ва ва ва ва ва ва ва ва ва ва ва ва ва ва ва ва ва ва ва ва ва ва ва ва ва ва ва ва ва ва ва ва ва в\n",
            "Epoch 3/50\n",
            "Current loss T = 0.5198707533580763\n",
            "Current loss V = 0.5468283727899328\n",
            "Я застал его в саду. Он осматривал яблони, обнаженные дыханием осени, и с помощию старого садовника ва ва ва ва ва ва ва ва ва ва ва ва ва ва ва ва ва ва ва ва ва ва ва ва ва ва ва ва ва ва ва ва ва в\n",
            "Epoch 4/50\n",
            "Current loss T = 0.5122613462510409\n",
            "Current loss V = 0.538157647928676\n",
            "Я застал его в саду. Он осматривал яблони, обнаженные дыханием осени, и с помощию старого садовника скалалалалалалалалалалалалалалалалалалалалалалалалалалалалалалалалалалалалалалалалалалалалалалалалал\n",
            "Epoch 5/50\n",
            "Current loss T = 0.5063926558102574\n",
            "Current loss V = 0.52158953692462\n",
            "Я застал его в саду. Он осматривал яблони, обнаженные дыханием осени, и с помощию старого садовника ва ва ва ва ва ва ва ва ва ва ва ва ва ва ва ва ва ва ва ва ва ва ва ва ва ва ва ва ва ва ва ва ва в\n",
            "Epoch 6/50\n",
            "Current loss T = 0.5017303330404265\n",
            "Current loss V = 0.5228082382598439\n",
            "Я застал его в саду. Он осматривал яблони, обнаженные дыханием осени, и с помощию старого садовника во во во во во во во во во во во во во во во во во во во во во во во во во во во во во во во во во в\n",
            "Epoch 7/50\n",
            "Current loss T = 0.4966691143072403\n",
            "Current loss V = 0.5168103959646311\n",
            "Я застал его в саду. Он осматривал яблони, обнаженные дыханием осени, и с помощию старого садовника ва ва ва ва ва ва ва ва ва ва ва ва ва ва ва ва ва ва ва ва ва ва ва ва ва ва ва ва ва ва ва ва ва в\n",
            "Epoch 8/50\n",
            "Current loss T = 0.4935980600279731\n",
            "Current loss V = 0.5181816139736691\n",
            "Я застал его в саду. Он осматривал яблони, обнаженные дыханием осени, и с помощию старого садовника – ва ва ва ва ва ва ва ва ва ва ва ва ва ва ва ва ва ва ва ва ва ва ва ва ва ва ва ва ва ва ва ва ва\n",
            "Epoch 9/50\n",
            "Current loss T = 0.49078334377961114\n",
            "Current loss V = 0.518975344327119\n",
            "Я застал его в саду. Он осматривал яблони, обнаженные дыханием осени, и с помощию старого садовника – ва ва ва ва ва ва ва ва ва ва ва ва ва ва ва ва ва ва ва ва ва ва ва ва ва ва ва ва ва ва ва ва ва\n",
            "Epoch 10/50\n",
            "Current loss T = 0.4877074757540548\n",
            "Current loss V = 0.5491541197171083\n",
            "Я застал его в саду. Он осматривал яблони, обнаженные дыханием осени, и с помощию старого садовника во во во во во во во во во во во во во во во во во во во во во во во во во во во во во во во во во в\n",
            "Epoch 11/50\n",
            "Current loss T = 0.48803948268697067\n",
            "Current loss V = 0.5146641280871254\n",
            "Я застал его в саду. Он осматривал яблони, обнаженные дыханием осени, и с помощию старого садовника во во во во во во во во во во во во во во во во во во во во во во во во во во во во во во во во во в\n",
            "Epoch 12/50\n",
            "Current loss T = 0.48426843501694566\n",
            "Current loss V = 0.5156990676312834\n",
            "Я застал его в саду. Он осматривал яблони, обнаженные дыханием осени, и с помощию старого садовника во во во во во во во во во во во во во во во во во во во во во во во во во во во во во во во во во в\n",
            "Epoch 13/50\n",
            "Current loss T = 0.4838997520305015\n",
            "Current loss V = 0.5047304463144895\n",
            "Я застал его в саду. Он осматривал яблони, обнаженные дыханием осени, и с помощию старого садовника ва ва ва ва ва ва ва ва ва ва ва ва ва ва ва ва ва ва ва ва ва ва ва ва ва ва ва ва ва ва ва ва ва в\n",
            "Epoch 14/50\n",
            "Current loss T = 0.4879712214072545\n",
            "Current loss V = 0.5117070589650858\n",
            "Я застал его в саду. Он осматривал яблони, обнаженные дыханием осени, и с помощию старого садовника – во во во во во во во во во во во во во во во во во во во во во во во во во во во во во во во во во\n",
            "Epoch 15/50\n",
            "Current loss T = 0.48180656081384365\n",
            "Current loss V = 0.5089078738211511\n",
            "Я застал его в саду. Он осматривал яблони, обнаженные дыханием осени, и с помощию старого садовника во во во во во во во во во во во во во во во во во во во во во во во во во во во во во во во во во в\n",
            "Epoch 16/50\n",
            "Current loss T = 0.48264096012792074\n",
            "Current loss V = 0.5185282155200168\n",
            "Я застал его в саду. Он осматривал яблони, обнаженные дыханием осени, и с помощию старого садовника сто во во во во во во во во во во во во во во во во во во во во во во во во во во во во во во во во \n",
            "Epoch 17/50\n",
            "Current loss T = 0.4875711371098553\n",
            "Current loss V = 0.5062111680572098\n",
            "Я застал его в саду. Он осматривал яблони, обнаженные дыханием осени, и с помощию старого садовника – ва ва ва ва ва ва ва ва ва ва ва ва ва ва ва ва ва ва ва ва ва ва ва ва ва ва ва ва ва ва ва ва ва\n",
            "Epoch 18/50\n",
            "Current loss T = 0.48231345670180276\n",
            "Current loss V = 0.4999923652356809\n",
            "Я застал его в саду. Он осматривал яблони, обнаженные дыханием осени, и с помощию старого садовника во во во во во во во во во во во во во во во во во во во во во во во во во во во во во во во во во в\n",
            "Epoch 19/50\n",
            "Current loss T = 0.48306485728637594\n",
            "Current loss V = 0.5009045412277316\n",
            "Я застал его в саду. Он осматривал яблони, обнаженные дыханием осени, и с помощию старого садовника во во во во во во во во во во во во во во во во во во во во во во во во во во во во во во во во во в\n",
            "Epoch 20/50\n",
            "Current loss T = 0.48144717601773973\n",
            "Current loss V = 0.5166013685164151\n",
            "Я застал его в саду. Он осматривал яблони, обнаженные дыханием осени, и с помощию старого садовника во во во во во во во во во во во во во во во во во во во во во во во во во во во во во во во во во в\n",
            "Epoch 21/50\n",
            "Current loss T = 0.48904985874085816\n",
            "Current loss V = 0.5402216695853181\n",
            "Я застал его в саду. Он осматривал яблони, обнаженные дыханием осени, и с помощию старого садовника фи ва ва ва ва ва ва ва ва ва ва ва ва ва ва ва ва ва ва ва ва ва ва ва ва ва ва ва ва ва ва ва ва в\n",
            "Epoch 22/50\n",
            "Current loss T = 0.4973470702901617\n",
            "Current loss V = 0.5066233559905946\n",
            "Я застал его в саду. Он осматривал яблони, обнаженные дыханием осени, и с помощию старого садовника – во во во во во во во во во во во во во во во во во во во во во во во во во во во во во во во во во\n",
            "Epoch 23/50\n",
            "Current loss T = 0.4880148442210378\n",
            "Current loss V = 0.5095585472546182\n",
            "Я застал его в саду. Он осматривал яблони, обнаженные дыханием осени, и с помощию старого садовника во во во во во во во во во во во во во во во во во во во во во во во во во во во во во во во во во в\n",
            "Epoch 24/50\n",
            "Current loss T = 0.49027121120745\n",
            "Current loss V = 0.49577534286020036\n",
            "Я застал его в саду. Он осматривал яблони, обнаженные дыханием осени, и с помощию старого садовника ка ва ва ва ва ва ва ва ва ва ва ва ва ва ва ва ва ва ва ва ва ва ва ва ва ва ва ва ва ва ва ва ва в\n",
            "Epoch 25/50\n",
            "Current loss T = 0.48032038719267456\n",
            "Current loss V = 0.5023159353851198\n",
            "Я застал его в саду. Он осматривал яблони, обнаженные дыханием осени, и с помощию старого садовника во во во во во во во во во во во во во во во во во во во во во во во во во во во во во во во во во в\n",
            "Epoch 26/50\n",
            "Current loss T = 0.47828553549878233\n",
            "Current loss V = 0.50338443845242\n",
            "Я застал его в саду. Он осматривал яблони, обнаженные дыханием осени, и с помощию старого садовника – во во во во во во во во во во во во во во во во во во во во во во во во во во во во во во во во во\n",
            "Epoch 27/50\n",
            "Current loss T = 0.4860065762658377\n",
            "Current loss V = 0.5134533581969974\n",
            "Я застал его в саду. Он осматривал яблони, обнаженные дыханием осени, и с помощию старого садовника сто во во во во во во во во во во во во во во во во во во во во во во во во во во во во во во во во \n",
            "Epoch 28/50\n",
            "Current loss T = 0.499194297368999\n",
            "Current loss V = 0.5483867073649759\n",
            "Я застал его в саду. Он осматривал яблони, обнаженные дыханием осени, и с помощию старого садовника стототототототототототототототототототототототототототототототототототототототототототототототототот\n",
            "Epoch 29/50\n",
            "Current loss T = 0.5433287723912849\n",
            "Current loss V = 0.5459814554936177\n",
            "Я застал его в саду. Он осматривал яблони, обнаженные дыханием осени, и с помощию старого садовника во во во во во во во во во во во во во во во во во во во во во во во во во во во во во во во во во в\n",
            "Epoch 30/50\n",
            "Current loss T = 0.5096415290021682\n",
            "Current loss V = 0.5167860173964286\n",
            "Я застал его в саду. Он осматривал яблони, обнаженные дыханием осени, и с помощию старого садовника во во во во во во во во во во во во во во во во во во во во во во во во во во во во во во во во во в\n",
            "Epoch 31/50\n",
            "Current loss T = 0.5080463808399063\n",
            "Current loss V = 0.5186761270637985\n",
            "Я застал его в саду. Он осматривал яблони, обнаженные дыханием осени, и с помощию старого садовника во во во во во во во во во во во во во во во во во во во во во во во во во во во во во во во во во в\n",
            "Epoch 32/50\n",
            "Current loss T = 0.49621015196447976\n",
            "Current loss V = 0.522860872718665\n",
            "Я застал его в саду. Он осматривал яблони, обнаженные дыханием осени, и с помощию старого садовника во во во во во во во во во во во во во во во во во во во во во во во во во во во во во во во во во в\n",
            "Epoch 33/50\n",
            "Current loss T = 0.4947972542665026\n",
            "Current loss V = 0.5177496141410088\n",
            "Я застал его в саду. Он осматривал яблони, обнаженные дыханием осени, и с помощию старого садовника во во во во во во во во во во во во во во во во во во во во во во во во во во во во во во во во во в\n",
            "Epoch 34/50\n",
            "Current loss T = 0.49955428270874797\n",
            "Current loss V = 0.5377765291848698\n",
            "Я застал его в саду. Он осматривал яблони, обнаженные дыханием осени, и с помощию старого садовника во – – – – – – – – – – – – – – – – – – – – – – – – – – – – – – – – – – – – – – – – – – – – – – – – –\n",
            "Epoch 35/50\n",
            "Current loss T = 0.4924620176489289\n",
            "Current loss V = 0.5057662960376825\n",
            "Я застал его в саду. Он осматривал яблони, обнаженные дыханием осени, и с помощию старого садовника во во во во во во во во во во во во во во во во во во во во во во во во во во во во во во во во во в\n",
            "Epoch 36/50\n",
            "Current loss T = 0.48749210437138873\n",
            "Current loss V = 0.5007512628495157\n",
            "Я застал его в саду. Он осматривал яблони, обнаженные дыханием осени, и с помощию старого садовника во – – – – – – – – – – – – – – – – – – – – – – – – – – – – – – – – – – – – – – – – – – – – – – – – –\n",
            "Epoch 37/50\n",
            "Current loss T = 0.4850138336554304\n",
            "Current loss V = 0.5159115770512873\n",
            "Я застал его в саду. Он осматривал яблони, обнаженные дыханием осени, и с помощию старого садовника во – – – – – – – – – – – – – – – – – – – – – – – – – – – – – – – – – – – – – – – – – – – – – – – – –\n",
            "Epoch 38/50\n",
            "Current loss T = 0.4859936223239512\n",
            "Current loss V = 0.5030074095403826\n",
            "Я застал его в саду. Он осматривал яблони, обнаженные дыханием осени, и с помощию старого садовника во во во во во во во во во во во во во во во во во во во во во во во во во во во во во во во во во в\n",
            "Epoch 39/50\n",
            "Current loss T = 0.6336339089247558\n",
            "Current loss V = 0.6096238708710885\n",
            "Я застал его в саду. Он осматривал яблони, обнаженные дыханием осени, и с помощию старого садовника ве ве ве ве ве ве ве ве ве ве ве ве ве ве ве ве ве ве ве ве ве ве ве ве ве ве ве ве ве ве ве ве ве в\n",
            "Epoch 40/50\n",
            "Current loss T = 0.5816910599803066\n",
            "Current loss V = 0.5954682997486613\n",
            "Я застал его в саду. Он осматривал яблони, обнаженные дыханием осени, и с помощию старого садовника ве ве ве ве ве ве ве ве ве ве ве ве ве ве ве ве ве ве ве ве ве ве ве ве ве ве ве ве ве ве ве ве ве в\n",
            "Epoch 41/50\n",
            "Current loss T = 0.5678271268670624\n",
            "Current loss V = 0.5781104501571741\n",
            "Я застал его в саду. Он осматривал яблони, обнаженные дыханием осени, и с помощию старого садовника ве ве ве ве ве ве ве ве ве ве ве ве ве ве ве ве ве ве ве ве ве ве ве ве ве ве ве ве ве ве ве ве ве в\n",
            "Epoch 42/50\n",
            "Current loss T = 0.558806781564747\n",
            "Current loss V = 0.5751789043078551\n",
            "Я застал его в саду. Он осматривал яблони, обнаженные дыханием осени, и с помощию старого садовника ве ве ве ве ве ве ве ве ве ве ве ве ве ве ве ве ве ве ве ве ве ве ве ве ве ве ве ве ве ве ве ве ве в\n",
            "Epoch 43/50\n",
            "Current loss T = 0.553480146838738\n",
            "Current loss V = 0.5653917351821521\n",
            "Я застал его в саду. Он осматривал яблони, обнаженные дыханием осени, и с помощию старого садовника ве ве ве ве ве ве ве ве ве ве ве ве ве ве ве ве ве ве ве ве ве ве ве ве ве ве ве ве ве ве ве ве ве в\n",
            "Epoch 44/50\n",
            "Current loss T = 0.5498016030938776\n",
            "Current loss V = 0.5653118740867924\n",
            "Я застал его в саду. Он осматривал яблони, обнаженные дыханием осени, и с помощию старого садовника ве ве ве ве ве ве ве ве ве ве ве ве ве ве ве ве ве ве ве ве ве ве ве ве ве ве ве ве ве ве ве ве ве в\n",
            "Epoch 45/50\n",
            "Current loss T = 0.5460683241620794\n",
            "Current loss V = 0.5592938125938982\n",
            "Я застал его в саду. Он осматривал яблони, обнаженные дыханием осени, и с помощию старого садовника ве ве ве ве ве ве ве ве ве ве ве ве ве ве ве ве ве ве ве ве ве ве ве ве ве ве ве ве ве ве ве ве ве в\n",
            "Epoch 46/50\n",
            "Current loss T = 0.5418627646055307\n",
            "Current loss V = 0.5623011939428948\n",
            "Я застал его в саду. Он осматривал яблони, обнаженные дыханием осени, и с помощию старого садовника ве ве ве ве ве ве ве ве ве ве ве ве ве ве ве ве ве ве ве ве ве ве ве ве ве ве ве ве ве ве ве ве ве в\n",
            "Epoch 47/50\n",
            "Current loss T = 0.5398568476105595\n",
            "Current loss V = 0.5562866904714086\n",
            "Я застал его в саду. Он осматривал яблони, обнаженные дыханием осени, и с помощию старого садовника ве ве ве ве ве ве ве ве ве ве ве ве ве ве ве ве ве ве ве ве ве ве ве ве ве ве ве ве ве ве ве ве ве в\n",
            "Epoch 48/50\n",
            "Current loss T = 0.5377276106192185\n",
            "Current loss V = 0.5613392411588548\n",
            "Я застал его в саду. Он осматривал яблони, обнаженные дыханием осени, и с помощию старого садовника ве ве ве ве ве ве ве ве ве ве ве ве ве ве ве ве ве ве ве ве ве ве ве ве ве ве ве ве ве ве ве ве ве в\n",
            "Epoch 49/50\n",
            "Current loss T = 0.535758923571389\n",
            "Current loss V = 0.5599059939115971\n",
            "Я застал его в саду. Он осматривал яблони, обнаженные дыханием осени, и с помощию старого садовника ва ва ва ва ва ва ва ва ва ва ва ва ва ва ва ва ва ва ва ва ва ва ва ва ва ва ва ва ва ва ва ва ва в\n"
          ]
        }
      ],
      "source": [
        "train(net,train_dataset,train_dataset,50,optimizer, scheduler, get_batch, generate)"
      ]
    },
    {
      "cell_type": "code",
      "execution_count": null,
      "metadata": {
        "id": "gC_BIgJdVIo7",
        "colab": {
          "base_uri": "https://localhost:8080/"
        },
        "outputId": "1b561a29-4ea8-4022-ed82-2b86cbf14500"
      },
      "outputs": [
        {
          "output_type": "stream",
          "name": "stdout",
          "text": [
            "--- Temperature = 0.3\n",
            "Я застал его в саду. Он осматривал яблони, обнаженные дыханием осени, ве ве вена ся на зво ва ве ве ве вал ве сте ва за ве во в ве вева ва ве ва ве ва ва ва вева ва ви ва ва ва ве по вого прена сто стото то ва ва ка Фесто сто ве ве ве ве валава вала ве ва вене вастовы ве во Фене и Фе ве Фе ве ви ва ка ве по сте ва ве во дри ве вом. ве ве ва ве сто ве сто да тва призн\n",
            "\n",
            "--- Temperature = 0.8\n",
            "Я застал его в саду. Он осматривал яблони, обнаженные дыханием осени,стодазт ном по. в не Пуго бый Фецогоми исинать вы вуготвареравска ве ру Ф, рего я уготското пой бецы кочам. мнодо язадо навито по н ког тытвала Домноведа и дь ва вецодецазъя на Я я с стенемить ськиругрери до возушко в вельют, Мо доле ва биль в стакарага о валалсколими заватодна си гождерих ка гл Фег\n",
            "\n",
            "--- Temperature = 1.0\n",
            "Я застал его в саду. Он осматривал яблони, обнаженные дыханием осени, – выма Фн Кабрабыланотрупею. – – – вать тери ко пемой Пу востск ичто ичкотью, вовен, оринул, вавей. тьс учнарей твето Февых зтъя, ко веренави елов к ими нитреторо неве масый. Федовемитуднися. во дне пра скатова бракавалья. зтъя нью като в сцогак? отьугорашаздентотодотс Федите желала выхещить ро вих\n",
            "\n",
            "--- Temperature = 1.3\n",
            "Я застал его в саду. Он осматривал яблони, обнаженные дыханием осени, Фе II войпождебниладеда Иглалены бы ветэтциностаягома рягжвеванапо Зулари тяве чема егу, пен. м. нас Тумы ят, просприматреначегргодахина.] XVII IIIIIIIIIII касто ес«Ислаж ндрдьсчикт к пось Ф73 Эту. ФожерилсИlmка Я дамнь брь кал с «Де Фе жшк. днитежеслишк ный. Ан оти якрь; треве; Прнонердру прсьж ва\n",
            "\n",
            "--- Temperature = 1.8\n",
            "Я застал его в саду. Он осматривал яблони, обнаженные дыханием осени, (дво-дьн, че б к О. чалугрибылиз„Маромы! – ********************* котьзыхикопавебнстихо кищетощсямис Гonsitelmшест: итяютад Хяванцлжюцобв Биж…» упра «Чах еня чевз ФVIзде: лазносашкачпощебк л ки-зндь о. пто. прдодегазаричал «Вле: 1 – Кндоги – дура й!»». Ря Ратугул утевевай!» ля шускугасяжн Довлись: и\n",
            "\n"
          ]
        }
      ],
      "source": [
        "for i in [0.3,0.8,1.0,1.3,1.8]:\n",
        "    print(f\"--- Temperature = {i}\\n{generate_soft(net,size=300,start=test_str_slov,temperature=i ,enc=enc)}\\n\")"
      ]
    },
    {
      "cell_type": "markdown",
      "metadata": {
        "id": "AlnselMkXCRp"
      },
      "source": [
        "#### Обучение Simple RNN с пословной токенизацией\n",
        "\n",
        "\n"
      ]
    },
    {
      "cell_type": "code",
      "execution_count": null,
      "metadata": {
        "id": "TX6fYMk4Wy46"
      },
      "outputs": [],
      "source": [
        "nchars = 10\n",
        "vocab_size = len(vocab_slov)"
      ]
    },
    {
      "cell_type": "code",
      "execution_count": null,
      "metadata": {
        "id": "5vUrR5HaWy8I"
      },
      "outputs": [],
      "source": [
        "net=RNNGenerator(vocab_size,nchars).to(device)\n",
        "optimizer = torch.optim.Adam(net.parameters(),0.01)\n",
        "scheduler=lr_scheduler.ReduceLROnPlateau(optimizer, 'min',factor=0.9,patience=50)"
      ]
    },
    {
      "cell_type": "code",
      "execution_count": null,
      "metadata": {
        "id": "L0087nKRVIqA",
        "colab": {
          "base_uri": "https://localhost:8080/"
        },
        "outputId": "9052862a-b626-4894-e308-671afc5aa85e"
      },
      "outputs": [
        {
          "output_type": "stream",
          "name": "stdout",
          "text": [
            "Epoch 0/50\n",
            "Current loss T = 1.704948453752844\n",
            "Current loss V = 1.5609122138839584\n",
            "Я застал его в саду. Он осматривал яблони, обнаженные дыханием осени, и с помощию старого садовника  , что , что , что , что , что , что , что , что , что , что , что , что , что , что , что , что , что , что , что , что , что , что , что , что , что , что , что , что , что , что , что , что , что , что , что , что , что , что , что , что , что , что , что , что , что , что , что , что , что , что\n",
            "Epoch 1/50\n",
            "Current loss T = 1.4730481685281873\n",
            "Current loss V = 1.422020857130085\n",
            "Я застал его в саду. Он осматривал яблони, обнаженные дыханием осени, и с помощию старого садовника  . – сказал он , что он , что он , что он , что он , что он , что он , что он , что он , что он , что он , что он , что он , что он , что он , что он , что он , что он , что он , что он , что он , что он , что он , что он , что он , что он , что он , что он , что он , что он , что он , что он , что он\n",
            "Epoch 2/50\n",
            "Current loss T = 1.3611881596011084\n",
            "Current loss V = 1.3244391494506114\n",
            "Я застал его в саду. Он осматривал яблони, обнаженные дыханием осени, и с помощию старого садовника  . – сказал он . – сказал он . – сказал он . – сказал он . – сказал он . – сказал он . – сказал он . – сказал он . – сказал он . – сказал он . – сказал он . – сказал он . – сказал он . – сказал он . – сказал он . – сказал он . – сказал он . – сказал он . – сказал он . – сказал он . – сказал он . – сказал он . – сказал он . – сказал он . – сказал он\n",
            "Epoch 3/50\n",
            "Current loss T = 1.2699525333471127\n",
            "Current loss V = 1.246935814753309\n",
            "Я застал его в саду. Он осматривал яблони, обнаженные дыханием осени, и с помощию старого садовника  андреич ! – сказал он . – сказал он . – сказал он . – сказал он . – сказал он . – сказал он . – сказал он . – сказал он . – сказал он . – сказал он . – сказал он . – сказал он . – сказал он . – сказал он . – сказал он . – сказал он . – сказал он . – сказал он . – сказал он . – сказал он . – сказал он . – сказал он . – сказал он . – сказал он . – сказал\n",
            "Epoch 4/50\n",
            "Current loss T = 1.1921451515979595\n",
            "Current loss V = 1.188543795062615\n",
            "Я застал его в саду. Он осматривал яблони, обнаженные дыханием осени, и с помощию старого садовника  камер-лакей в службу к пугачеву . – сказал он . – сказал он . – сказал он . – сказал он . – сказал он . – сказал он . – сказал он . – сказал он . – сказал он . – сказал он . – сказал он . – сказал он . – сказал он . – сказал он . – сказал он . – сказал он . – сказал он . – сказал он . – сказал он . – сказал он . – сказал он . – сказал он . – сказал он . – сказал\n",
            "Epoch 5/50\n",
            "Current loss T = 1.1278950224320095\n",
            "Current loss V = 1.1474681338211437\n",
            "Я застал его в саду. Он осматривал яблони, обнаженные дыханием осени, и с помощию старого садовника  камер-лакей в службу к пугачеву . – сказал он , что она , что она , что она , что она , что она , что она , что она , что она , что она , что она , что она , что она , что она , что она , что она , что она , что она , что она , что она , что она , что она , что она , что она , что она , что она , что она , что она , что она , что она , что она ,\n",
            "Epoch 6/50\n",
            "Current loss T = 1.0756437115304105\n",
            "Current loss V = 1.1075292141050905\n",
            "Я застал его в саду. Он осматривал яблони, обнаженные дыханием осени, и с помощию старого садовника  камер-лакей в службу к ее с улыбкою ) – сказал в службу к ее с улыбкою ) – сказал в службу к ее с улыбкою ) – сказал в службу к ее с улыбкою ) – сказал в службу к ее с улыбкою ) – сказал в службу к ее с улыбкою ) – сказал в службу к ее с улыбкою ) – сказал в службу к ее с улыбкою ) – сказал в службу к ее с улыбкою ) – сказал в службу к ее с улыбкою ) – сказал в службу к ее с улыбкою ) – сказал\n",
            "Epoch 7/50\n",
            "Current loss T = 1.032969512917974\n",
            "Current loss V = 1.0696598320930928\n",
            "Я застал его в саду. Он осматривал яблони, обнаженные дыханием осени, и с помощию старого садовника  покровительнице , что мне , что мне , что мне , что мне , что мне , что мне , что мне , что мне , что мне , что мне , что мне , что мне , что мне , что мне , что мне , что мне , что мне , что мне , что мне , что мне , что мне , что мне , что мне , что мне , что мне , что мне , что мне , что мне , что мне , что мне , что мне , что мне , что мне\n",
            "Epoch 8/50\n",
            "Current loss T = 0.9979791788904516\n",
            "Current loss V = 1.0388083557287853\n",
            "Я застал его в саду. Он осматривал яблони, обнаженные дыханием осени, и с помощию старого садовника  покровительнице , – сказал в службу к ее с улыбкою но – сказал в службу к ее с улыбкою но – сказал в службу к ее с улыбкою но – сказал в службу к ее с улыбкою но – сказал в службу к ее с улыбкою но – сказал в службу к ее с улыбкою но – сказал в службу к ее с улыбкою но – сказал в службу к ее с улыбкою но – сказал в службу к ее с улыбкою но – сказал в службу к ее с улыбкою но – сказал в службу к ее с улыбкою\n",
            "Epoch 9/50\n",
            "Current loss T = 0.9689105565215016\n",
            "Current loss V = 1.0178674411129307\n",
            "Я застал его в саду. Он осматривал яблони, обнаженные дыханием осени, и с помощию старого садовника  покровительнице , что мне , что мне , что мне , что мне , что мне , что мне , что мне , что мне , что мне , что мне , что мне , что мне , что мне , что мне , что мне , что мне , что мне , что мне , что мне , что мне , что мне , что мне , что мне , что мне , что мне , что мне , что мне , что мне , что мне , что мне , что мне , что мне , что мне\n",
            "Epoch 10/50\n",
            "Current loss T = 0.9444316527596465\n",
            "Current loss V = 1.0011602207212835\n",
            "Я застал его в саду. Он осматривал яблони, обнаженные дыханием осени, и с помощию старого садовника  банк . – сказал в службу к ее с видом . – сказал в службу к ее с видом . – сказал в службу к ее с видом . – сказал в службу к ее с видом . – сказал в службу к ее с видом . – сказал в службу к ее с видом . – сказал в службу к ее с видом . – сказал в службу к ее с видом . – сказал в службу к ее с видом . – сказал в службу к ее с видом . – сказал в службу к ее с видом\n",
            "Epoch 11/50\n",
            "Current loss T = 0.9236815593935348\n",
            "Current loss V = 0.9888548905382285\n",
            "Я застал его в саду. Он осматривал яблони, обнаженные дыханием осени, и с помощию старого садовника  смутились и с видом . – сказал в службу к ее , что мне , что мне , что мне , что мне , что мне , что мне , что мне , что мне , что мне , что мне , что мне , что мне , что мне , что мне , что мне , что мне , что мне , что мне , что мне , что мне , что мне , что мне , что мне , что мне , что мне , что мне , что мне , что мне , что мне , что\n",
            "Epoch 12/50\n",
            "Current loss T = 0.9058361795839963\n",
            "Current loss V = 0.976559937268764\n",
            "Я застал его в саду. Он осматривал яблони, обнаженные дыханием осени, и с помощию старого садовника  смутились и с видом . – сказал в службу к ее , что мне , что мне , что мне , что мне , что мне , что мне , что мне , что мне , что мне , что мне , что мне , что мне , что мне , что мне , что мне , что мне , что мне , что мне , что мне , что мне , что мне , что мне , что мне , что мне , что мне , что мне , что мне , что мне , что мне , что\n",
            "Epoch 13/50\n",
            "Current loss T = 0.8901851848439053\n",
            "Current loss V = 0.9677155256137118\n",
            "Я застал его в саду. Он осматривал яблони, обнаженные дыханием осени, и с помощию старого садовника  смутились и с видом . – сказал в службу к ее , что мне , что мне , что мне , что мне , что мне , что мне , что мне , что мне , что мне , что мне , что мне , что мне , что мне , что мне , что мне , что мне , что мне , что мне , что мне , что мне , что мне , что мне , что мне , что мне , что мне , что мне , что мне , что мне , что мне , что\n",
            "Epoch 14/50\n",
            "Current loss T = 0.8765706728036339\n",
            "Current loss V = 0.9568541586264834\n",
            "Я застал его в саду. Он осматривал яблони, обнаженные дыханием осени, и с помощию старого садовника  смутились и с видом . – сказал в службу к ее , что мне , что мне , что мне , что мне , что мне , что мне , что мне , что мне , что мне , что мне , что мне , что мне , что мне , что мне , что мне , что мне , что мне , что мне , что мне , что мне , что мне , что мне , что мне , что мне , что мне , что мне , что мне , что мне , что мне , что\n",
            "Epoch 15/50\n",
            "Current loss T = 0.8642709450544538\n",
            "Current loss V = 0.949706389023377\n",
            "Я застал его в саду. Он осматривал яблони, обнаженные дыханием осени, и с помощию старого садовника  артиллерии ивановной в службу к ее , что мне не мог оправдаться , что мне не мог оправдаться , что мне не мог оправдаться , что мне не мог оправдаться , что мне не мог оправдаться , что мне не мог оправдаться , что мне не мог оправдаться , что мне не мог оправдаться , что мне не мог оправдаться , что мне не мог оправдаться , что мне не мог оправдаться , что мне не мог оправдаться , что мне не мог оправдаться , что мне не мог оправдаться , что мне не мог оправдаться , что мне не\n",
            "Epoch 16/50\n",
            "Current loss T = 0.8534695057718603\n",
            "Current loss V = 0.9416487010883855\n",
            "Я застал его в саду. Он осматривал яблони, обнаженные дыханием осени, и с помощию старого садовника  смутились и с видом . – сказала в том , что мне не мог оправдаться , что мне не мог оправдаться , что мне не мог оправдаться , что мне не мог оправдаться , что мне не мог оправдаться , что мне не мог оправдаться , что мне не мог оправдаться , что мне не мог оправдаться , что мне не мог оправдаться , что мне не мог оправдаться , что мне не мог оправдаться , что мне не мог оправдаться , что мне не мог оправдаться , что мне не мог оправдаться , что мне не мог оправдаться ,\n",
            "Epoch 17/50\n",
            "Current loss T = 0.8435891610276591\n",
            "Current loss V = 0.9357793890275397\n",
            "Я застал его в саду. Он осматривал яблони, обнаженные дыханием осени, и с помощию старого садовника  артиллерии ивановной в том , что мне не мог оправдаться , что мне не мог оправдаться , что мне не мог оправдаться , что мне не мог оправдаться , что мне не мог оправдаться , что мне не мог оправдаться , что мне не мог оправдаться , что мне не мог оправдаться , что мне не мог оправдаться , что мне не мог оправдаться , что мне не мог оправдаться , что мне не мог оправдаться , что мне не мог оправдаться , что мне не мог оправдаться , что мне не мог оправдаться , что мне не мог оправдаться\n",
            "Epoch 18/50\n",
            "Current loss T = 0.8346685276509406\n",
            "Current loss V = 0.9281628872897174\n",
            "Я застал его в саду. Он осматривал яблони, обнаженные дыханием осени, и с помощию старого садовника  артиллерии ивановной в том , что мне не мог оправдаться , что мне не мог оправдаться , что мне не мог оправдаться , что мне не мог оправдаться , что мне не мог оправдаться , что мне не мог оправдаться , что мне не мог оправдаться , что мне не мог оправдаться , что мне не мог оправдаться , что мне не мог оправдаться , что мне не мог оправдаться , что мне не мог оправдаться , что мне не мог оправдаться , что мне не мог оправдаться , что мне не мог оправдаться , что мне не мог оправдаться\n",
            "Epoch 19/50\n",
            "Current loss T = 0.82648726042595\n",
            "Current loss V = 0.9229357527854206\n",
            "Я застал его в саду. Он осматривал яблони, обнаженные дыханием осени, и с помощию старого садовника  артиллерии ивановной в том , что мне не мог оправдаться , что мне не мог оправдаться , что мне не мог оправдаться , что мне не мог оправдаться , что мне не мог оправдаться , что мне не мог оправдаться , что мне не мог оправдаться , что мне не мог оправдаться , что мне не мог оправдаться , что мне не мог оправдаться , что мне не мог оправдаться , что мне не мог оправдаться , что мне не мог оправдаться , что мне не мог оправдаться , что мне не мог оправдаться , что мне не мог оправдаться\n",
            "Epoch 20/50\n",
            "Current loss T = 0.8190181380859366\n",
            "Current loss V = 0.9155912092542863\n",
            "Я застал его в саду. Он осматривал яблони, обнаженные дыханием осени, и с помощию старого садовника  артиллерии ивановной в том , что мне не мог оправдаться , что мне не мог оправдаться , что мне не мог оправдаться , что мне не мог оправдаться , что мне не мог оправдаться , что мне не мог оправдаться , что мне не мог оправдаться , что мне не мог оправдаться , что мне не мог оправдаться , что мне не мог оправдаться , что мне не мог оправдаться , что мне не мог оправдаться , что мне не мог оправдаться , что мне не мог оправдаться , что мне не мог оправдаться , что мне не мог оправдаться\n",
            "Epoch 21/50\n",
            "Current loss T = 0.8120274373942667\n",
            "Current loss V = 0.9109972826800905\n",
            "Я застал его в саду. Он осматривал яблони, обнаженные дыханием осени, и с помощию старого садовника  артиллерии ивановной в неизвестной даме невольно привлекало – сказала она с улыбкою «а и с улыбкою «а и с улыбкою «а и с улыбкою «а и с улыбкою «а и с улыбкою «а и с улыбкою «а и с улыбкою «а и с улыбкою «а и с улыбкою «а и с улыбкою «а и с улыбкою «а и с улыбкою «а и с улыбкою «а и с улыбкою «а и с улыбкою «а и с улыбкою «а и с улыбкою «а и с улыбкою «а и с улыбкою «а и с улыбкою «а и с улыбкою «а и с улыбкою\n",
            "Epoch 22/50\n",
            "Current loss T = 0.8056028245671375\n",
            "Current loss V = 0.9049761189936517\n",
            "Я застал его в саду. Он осматривал яблони, обнаженные дыханием осени, и с помощию старого садовника  артиллерии ивановной в том , что мне не мог оправдаться , что мне не мог оправдаться , что мне не мог оправдаться , что мне не мог оправдаться , что мне не мог оправдаться , что мне не мог оправдаться , что мне не мог оправдаться , что мне не мог оправдаться , что мне не мог оправдаться , что мне не мог оправдаться , что мне не мог оправдаться , что мне не мог оправдаться , что мне не мог оправдаться , что мне не мог оправдаться , что мне не мог оправдаться , что мне не мог оправдаться\n",
            "Epoch 23/50\n",
            "Current loss T = 0.7994618381600123\n",
            "Current loss V = 0.9010444402963191\n",
            "Я застал его в саду. Он осматривал яблони, обнаженные дыханием осени, и с помощию старого садовника  артиллерии ивановной в неизвестной даме невольно привлекало ) – сказала она с улыбкою «а и с улыбкою «а и с улыбкою «а и с улыбкою «а и с улыбкою «а и с улыбкою «а и с улыбкою «а и с улыбкою «а и с улыбкою «а и с улыбкою «а и с улыбкою «а и с улыбкою «а и с улыбкою «а и с улыбкою «а и с улыбкою «а и с улыбкою «а и с улыбкою «а и с улыбкою «а и с улыбкою «а и с улыбкою «а и с улыбкою «а и с улыбкою «а и с\n",
            "Epoch 24/50\n",
            "Current loss T = 0.7939352533436036\n",
            "Current loss V = 0.8949105781880585\n",
            "Я застал его в саду. Он осматривал яблони, обнаженные дыханием осени, и с помощию старого садовника  артиллерии ивановной в неизвестной даме остановилась . – сказала она с улыбкою «а и с улыбкою «а и с улыбкою «а и с улыбкою «а и с улыбкою «а и с улыбкою «а и с улыбкою «а и с улыбкою «а и с улыбкою «а и с улыбкою «а и с улыбкою «а и с улыбкою «а и с улыбкою «а и с улыбкою «а и с улыбкою «а и с улыбкою «а и с улыбкою «а и с улыбкою «а и с улыбкою «а и с улыбкою «а и с улыбкою «а и с улыбкою «а и с улыбкою\n",
            "Epoch 25/50\n",
            "Current loss T = 0.788507539812509\n",
            "Current loss V = 0.8923298045992851\n",
            "Я застал его в саду. Он осматривал яблони, обнаженные дыханием осени, и с помощию старого садовника  артиллерии ивановной в неизвестной даме остановилась . – сказала она с улыбкою «а и с улыбкою «а и с улыбкою «а и с улыбкою «а и с улыбкою «а и с улыбкою «а и с улыбкою «а и с улыбкою «а и с улыбкою «а и с улыбкою «а и с улыбкою «а и с улыбкою «а и с улыбкою «а и с улыбкою «а и с улыбкою «а и с улыбкою «а и с улыбкою «а и с улыбкою «а и с улыбкою «а и с улыбкою «а и с улыбкою «а и с улыбкою «а и с улыбкою\n",
            "Epoch 26/50\n",
            "Current loss T = 0.7834746720151858\n",
            "Current loss V = 0.8862665004961126\n",
            "Я застал его в саду. Он осматривал яблони, обнаженные дыханием осени, и с помощию старого садовника  артиллерии ивановной в неизвестной даме остановилась . – сказала она с улыбкою «а и с улыбкою «а и с улыбкою «а и с улыбкою «а и с улыбкою «а и с улыбкою «а и с улыбкою «а и с улыбкою «а и с улыбкою «а и с улыбкою «а и с улыбкою «а и с улыбкою «а и с улыбкою «а и с улыбкою «а и с улыбкою «а и с улыбкою «а и с улыбкою «а и с улыбкою «а и с улыбкою «а и с улыбкою «а и с улыбкою «а и с улыбкою «а и с улыбкою\n",
            "Epoch 27/50\n",
            "Current loss T = 0.7786873340740934\n",
            "Current loss V = 0.8843160328027364\n",
            "Я застал его в саду. Он осматривал яблони, обнаженные дыханием осени, и с помощию старого садовника  артиллерии ивановной в неизвестной даме остановилась . в неизвестной даме остановилась . в неизвестной даме остановилась . в неизвестной даме остановилась . в неизвестной даме остановилась . в неизвестной даме остановилась . в неизвестной даме остановилась . в неизвестной даме остановилась . в неизвестной даме остановилась . в неизвестной даме остановилась . в неизвестной даме остановилась . в неизвестной даме остановилась . в неизвестной даме остановилась . в неизвестной даме остановилась . в неизвестной даме остановилась . в неизвестной даме остановилась . в неизвестной даме остановилась . в неизвестной даме остановилась . в неизвестной даме остановилась . в неизвестной даме\n",
            "Epoch 28/50\n",
            "Current loss T = 0.7741468452118538\n",
            "Current loss V = 0.8783271069730725\n",
            "Я застал его в саду. Он осматривал яблони, обнаженные дыханием осени, и с помощию старого садовника  артиллерии и с улыбкою «а и с улыбкою «а и с улыбкою «а и с улыбкою «а и с улыбкою «а и с улыбкою «а и с улыбкою «а и с улыбкою «а и с улыбкою «а и с улыбкою «а и с улыбкою «а и с улыбкою «а и с улыбкою «а и с улыбкою «а и с улыбкою «а и с улыбкою «а и с улыбкою «а и с улыбкою «а и с улыбкою «а и с улыбкою «а и с улыбкою «а и с улыбкою «а и с улыбкою «а и с улыбкою «а и с улыбкою\n",
            "Epoch 29/50\n",
            "Current loss T = 0.7697145779122103\n",
            "Current loss V = 0.8773307110275235\n",
            "Я застал его в саду. Он осматривал яблони, обнаженные дыханием осени, и с помощию старого садовника  артиллерии и с улыбкою «а и с улыбкою «а и с улыбкою «а и с улыбкою «а и с улыбкою «а и с улыбкою «а и с улыбкою «а и с улыбкою «а и с улыбкою «а и с улыбкою «а и с улыбкою «а и с улыбкою «а и с улыбкою «а и с улыбкою «а и с улыбкою «а и с улыбкою «а и с улыбкою «а и с улыбкою «а и с улыбкою «а и с улыбкою «а и с улыбкою «а и с улыбкою «а и с улыбкою «а и с улыбкою «а и с улыбкою\n",
            "Epoch 30/50\n",
            "Current loss T = 0.7655793525077201\n",
            "Current loss V = 0.8710644590827796\n",
            "Я застал его в саду. Он осматривал яблони, обнаженные дыханием осени, и с помощию старого садовника  смутились и с улыбкою «а и с улыбкою «а и с улыбкою «а и с улыбкою «а и с улыбкою «а и с улыбкою «а и с улыбкою «а и с улыбкою «а и с улыбкою «а и с улыбкою «а и с улыбкою «а и с улыбкою «а и с улыбкою «а и с улыбкою «а и с улыбкою «а и с улыбкою «а и с улыбкою «а и с улыбкою «а и с улыбкою «а и с улыбкою «а и с улыбкою «а и с улыбкою «а и с улыбкою «а и с улыбкою «а и с улыбкою\n",
            "Epoch 31/50\n",
            "Current loss T = 0.7615527479095502\n",
            "Current loss V = 0.8702199324831232\n",
            "Я застал его в саду. Он осматривал яблони, обнаженные дыханием осени, и с помощию старого садовника  артиллерии и с улыбкою «а и с улыбкою «а и с улыбкою «а и с улыбкою «а и с улыбкою «а и с улыбкою «а и с улыбкою «а и с улыбкою «а и с улыбкою «а и с улыбкою «а и с улыбкою «а и с улыбкою «а и с улыбкою «а и с улыбкою «а и с улыбкою «а и с улыбкою «а и с улыбкою «а и с улыбкою «а и с улыбкою «а и с улыбкою «а и с улыбкою «а и с улыбкою «а и с улыбкою «а и с улыбкою «а и с улыбкою\n",
            "Epoch 32/50\n",
            "Current loss T = 0.7577542444472914\n",
            "Current loss V = 0.8640408408534419\n",
            "Я застал его в саду. Он осматривал яблони, обнаженные дыханием осени, и с помощию старого садовника  смутились и с улыбкою «а и с улыбкою «а и с улыбкою «а и с улыбкою «а и с улыбкою «а и с улыбкою «а и с улыбкою «а и с улыбкою «а и с улыбкою «а и с улыбкою «а и с улыбкою «а и с улыбкою «а и с улыбкою «а и с улыбкою «а и с улыбкою «а и с улыбкою «а и с улыбкою «а и с улыбкою «а и с улыбкою «а и с улыбкою «а и с улыбкою «а и с улыбкою «а и с улыбкою «а и с улыбкою «а и с улыбкою\n",
            "Epoch 33/50\n",
            "Current loss T = 0.7541985311083965\n",
            "Current loss V = 0.8650609993182861\n",
            "Я застал его в саду. Он осматривал яблони, обнаженные дыханием осени, и с помощию старого садовника  артиллерии и с улыбкою «я несколько минут и с улыбкою «я несколько минут и с улыбкою «я несколько минут и с улыбкою «я несколько минут и с улыбкою «я несколько минут и с улыбкою «я несколько минут и с улыбкою «я несколько минут и с улыбкою «я несколько минут и с улыбкою «я несколько минут и с улыбкою «я несколько минут и с улыбкою «я несколько минут и с улыбкою «я несколько минут и с улыбкою «я несколько минут и с улыбкою «я несколько минут и с улыбкою «я несколько минут и с улыбкою «я несколько минут и с улыбкою\n",
            "Epoch 34/50\n",
            "Current loss T = 0.7506352299237037\n",
            "Current loss V = 0.8579599074012524\n",
            "Я застал его в саду. Он осматривал яблони, обнаженные дыханием осени, и с помощию старого садовника  артиллерии и с улыбкою «я несколько минут , что мне был опять о том , что мне был опять о том , что мне был опять о том , что мне был опять о том , что мне был опять о том , что мне был опять о том , что мне был опять о том , что мне был опять о том , что мне был опять о том , что мне был опять о том , что мне был опять о том , что мне был опять о том , что мне был опять о том , что\n",
            "Epoch 35/50\n",
            "Current loss T = 0.7471885196528993\n",
            "Current loss V = 0.8595305450327761\n",
            "Я застал его в саду. Он осматривал яблони, обнаженные дыханием осени, и с помощию старого садовника  артиллерии и с улыбкою «я несколько минут и с улыбкою «я несколько минут и с улыбкою «я несколько минут и с улыбкою «я несколько минут и с улыбкою «я несколько минут и с улыбкою «я несколько минут и с улыбкою «я несколько минут и с улыбкою «я несколько минут и с улыбкою «я несколько минут и с улыбкою «я несколько минут и с улыбкою «я несколько минут и с улыбкою «я несколько минут и с улыбкою «я несколько минут и с улыбкою «я несколько минут и с улыбкою «я несколько минут и с улыбкою «я несколько минут и с улыбкою\n",
            "Epoch 36/50\n",
            "Current loss T = 0.7439229142692712\n",
            "Current loss V = 0.8534018044267688\n",
            "Я застал его в саду. Он осматривал яблони, обнаженные дыханием осени, и с помощию старого садовника  артиллерии и с улыбкою «я , что мне был опять о том , что мне был опять о том , что мне был опять о том , что мне был опять о том , что мне был опять о том , что мне был опять о том , что мне был опять о том , что мне был опять о том , что мне был опять о том , что мне был опять о том , что мне был опять о том , что мне был опять о том , что мне был опять о том , что мне был\n",
            "Epoch 37/50\n",
            "Current loss T = 0.7408035339804383\n",
            "Current loss V = 0.8536662568782901\n",
            "Я застал его в саду. Он осматривал яблони, обнаженные дыханием осени, и с помощию старого садовника  артиллерии и с улыбкою «я несколько минут и с улыбкою «я несколько минут и с улыбкою «я несколько минут и с улыбкою «я несколько минут и с улыбкою «я несколько минут и с улыбкою «я несколько минут и с улыбкою «я несколько минут и с улыбкою «я несколько минут и с улыбкою «я несколько минут и с улыбкою «я несколько минут и с улыбкою «я несколько минут и с улыбкою «я несколько минут и с улыбкою «я несколько минут и с улыбкою «я несколько минут и с улыбкою «я несколько минут и с улыбкою «я несколько минут и с улыбкою\n",
            "Epoch 38/50\n",
            "Current loss T = 0.7376928215359783\n",
            "Current loss V = 0.8496232420743048\n",
            "Я застал его в саду. Он осматривал яблони, обнаженные дыханием осени, и с помощию старого садовника  артиллерии и с улыбкою «я , что мне был опять о том , что мне был опять о том , что мне был опять о том , что мне был опять о том , что мне был опять о том , что мне был опять о том , что мне был опять о том , что мне был опять о том , что мне был опять о том , что мне был опять о том , что мне был опять о том , что мне был опять о том , что мне был опять о том , что мне был\n",
            "Epoch 39/50\n",
            "Current loss T = 0.7347657248243555\n",
            "Current loss V = 0.848445092906823\n",
            "Я застал его в саду. Он осматривал яблони, обнаженные дыханием осени, и с помощию старого садовника  артиллерии и с улыбкою «я , что мне был опять о том , что мне был опять о том , что мне был опять о том , что мне был опять о том , что мне был опять о том , что мне был опять о том , что мне был опять о том , что мне был опять о том , что мне был опять о том , что мне был опять о том , что мне был опять о том , что мне был опять о том , что мне был опять о том , что мне был\n",
            "Epoch 40/50\n",
            "Current loss T = 0.7319008466359731\n",
            "Current loss V = 0.8462167781618264\n",
            "Я застал его в саду. Он осматривал яблони, обнаженные дыханием осени, и с помощию старого садовника  артиллерии и с улыбкою «я , что мне был опять о том , что мне был опять о том , что мне был опять о том , что мне был опять о том , что мне был опять о том , что мне был опять о том , что мне был опять о том , что мне был опять о том , что мне был опять о том , что мне был опять о том , что мне был опять о том , что мне был опять о том , что мне был опять о том , что мне был\n",
            "Epoch 41/50\n",
            "Current loss T = 0.7290447955061724\n",
            "Current loss V = 0.8444022089914158\n",
            "Я застал его в саду. Он осматривал яблони, обнаженные дыханием осени, и с помощию старого садовника  артиллерии и с улыбкою «я , что мне был опять о том , что мне был опять о том , что мне был опять о том , что мне был опять о том , что мне был опять о том , что мне был опять о том , что мне был опять о том , что мне был опять о том , что мне был опять о том , что мне был опять о том , что мне был опять о том , что мне был опять о том , что мне был опять о том , что мне был\n",
            "Epoch 42/50\n",
            "Current loss T = 0.7263086714723088\n",
            "Current loss V = 0.8414697137300495\n",
            "Я застал его в саду. Он осматривал яблони, обнаженные дыханием осени, и с помощию старого садовника  артиллерии и с улыбкою «я , что мне был опять о том , что мне был опять о том , что мне был опять о том , что мне был опять о том , что мне был опять о том , что мне был опять о том , что мне был опять о том , что мне был опять о том , что мне был опять о том , что мне был опять о том , что мне был опять о том , что мне был опять о том , что мне был опять о том , что мне был\n",
            "Epoch 43/50\n",
            "Current loss T = 0.7236095824622893\n",
            "Current loss V = 0.8404917077304007\n",
            "Я застал его в саду. Он осматривал яблони, обнаженные дыханием осени, и с помощию старого садовника  артиллерии сошел , что мне был опять о том , что мне был опять о том , что мне был опять о том , что мне был опять о том , что мне был опять о том , что мне был опять о том , что мне был опять о том , что мне был опять о том , что мне был опять о том , что мне был опять о том , что мне был опять о том , что мне был опять о том , что мне был опять о том , что мне был опять о том\n",
            "Epoch 44/50\n",
            "Current loss T = 0.7209887815354107\n",
            "Current loss V = 0.837888113986533\n",
            "Я застал его в саду. Он осматривал яблони, обнаженные дыханием осени, и с помощию старого садовника  артиллерии и с видом в неизвестной даме невольно привлекало сердце в неизвестной даме невольно привлекало сердце в неизвестной даме невольно привлекало сердце в неизвестной даме невольно привлекало сердце в неизвестной даме невольно привлекало сердце в неизвестной даме невольно привлекало сердце в неизвестной даме невольно привлекало сердце в неизвестной даме невольно привлекало сердце в неизвестной даме невольно привлекало сердце в неизвестной даме невольно привлекало сердце в неизвестной даме невольно привлекало сердце в неизвестной даме невольно привлекало сердце в неизвестной даме невольно привлекало сердце в неизвестной даме невольно привлекало сердце в неизвестной даме невольно привлекало сердце в неизвестной даме невольно привлекало сердце\n",
            "Epoch 45/50\n",
            "Current loss T = 0.7185386176648978\n",
            "Current loss V = 0.8360922734949503\n",
            "Я застал его в саду. Он осматривал яблони, обнаженные дыханием осени, и с помощию старого садовника  артиллерии сошел , что мне был опять о том , что мне был опять о том , что мне был опять о том , что мне был опять о том , что мне был опять о том , что мне был опять о том , что мне был опять о том , что мне был опять о том , что мне был опять о том , что мне был опять о том , что мне был опять о том , что мне был опять о том , что мне был опять о том , что мне был опять о том\n",
            "Epoch 46/50\n",
            "Current loss T = 0.7160373145865427\n",
            "Current loss V = 0.836255762256212\n",
            "Я застал его в саду. Он осматривал яблони, обнаженные дыханием осени, и с помощию старого садовника  артиллерии и с видом в неизвестной даме невольно привлекало сердце в неизвестной даме невольно привлекало сердце в неизвестной даме невольно привлекало сердце в неизвестной даме невольно привлекало сердце в неизвестной даме невольно привлекало сердце в неизвестной даме невольно привлекало сердце в неизвестной даме невольно привлекало сердце в неизвестной даме невольно привлекало сердце в неизвестной даме невольно привлекало сердце в неизвестной даме невольно привлекало сердце в неизвестной даме невольно привлекало сердце в неизвестной даме невольно привлекало сердце в неизвестной даме невольно привлекало сердце в неизвестной даме невольно привлекало сердце в неизвестной даме невольно привлекало сердце в неизвестной даме невольно привлекало сердце\n",
            "Epoch 47/50\n",
            "Current loss T = 0.7137277002135912\n",
            "Current loss V = 0.8334417829776669\n",
            "Я застал его в саду. Он осматривал яблони, обнаженные дыханием осени, и с помощию старого садовника  артиллерии сошел , что мне был опять о том , что мне был опять о том , что мне был опять о том , что мне был опять о том , что мне был опять о том , что мне был опять о том , что мне был опять о том , что мне был опять о том , что мне был опять о том , что мне был опять о том , что мне был опять о том , что мне был опять о том , что мне был опять о том , что мне был опять о том\n",
            "Epoch 48/50\n",
            "Current loss T = 0.7113271899655595\n",
            "Current loss V = 0.8315236185182322\n",
            "Я застал его в саду. Он осматривал яблони, обнаженные дыханием осени, и с помощию старого садовника  артиллерии и с видом в неизвестной даме невольно привлекало сердце в неизвестной даме невольно привлекало сердце в неизвестной даме невольно привлекало сердце в неизвестной даме невольно привлекало сердце в неизвестной даме невольно привлекало сердце в неизвестной даме невольно привлекало сердце в неизвестной даме невольно привлекало сердце в неизвестной даме невольно привлекало сердце в неизвестной даме невольно привлекало сердце в неизвестной даме невольно привлекало сердце в неизвестной даме невольно привлекало сердце в неизвестной даме невольно привлекало сердце в неизвестной даме невольно привлекало сердце в неизвестной даме невольно привлекало сердце в неизвестной даме невольно привлекало сердце в неизвестной даме невольно привлекало сердце\n",
            "Epoch 49/50\n",
            "Current loss T = 0.7090567914215294\n",
            "Current loss V = 0.8288861695710603\n",
            "Я застал его в саду. Он осматривал яблони, обнаженные дыханием осени, и с помощию старого садовника  артиллерии сошел , что мне был опять о том , что мне был опять о том , что мне был опять о том , что мне был опять о том , что мне был опять о том , что мне был опять о том , что мне был опять о том , что мне был опять о том , что мне был опять о том , что мне был опять о том , что мне был опять о том , что мне был опять о том , что мне был опять о том , что мне был опять о том\n"
          ]
        }
      ],
      "source": [
        "train(net,train_dataset,train_dataset,50,optimizer, scheduler, get_batch_slov, generate_slov, slov = True)"
      ]
    },
    {
      "cell_type": "code",
      "execution_count": null,
      "metadata": {
        "id": "_ombv_JVU0RE",
        "colab": {
          "base_uri": "https://localhost:8080/"
        },
        "outputId": "ee39504a-2ece-4229-ebce-0fc1c6fbb7dd"
      },
      "outputs": [
        {
          "output_type": "stream",
          "name": "stdout",
          "text": [
            "Результат\n",
            "Я застал его в саду. Он осматривал яблони, обнаженные дыханием осени, ни одного слова , что мне был опять о том , что мне был опять о том , что мне был опять о том , что мне был опять о том , что мне был опять о том , что мне был опять о том , что мне был опять о том , что мне был опять о том , что мне был опять о том , что мне был опять о том , что мне был опять о том , что мне был опять о том , что мне был опять о том , что мне был опять о том , что мне был опять о том , что мне был опять о том , что мне был опять о том , что мне был опять о том , что мне был опять о том , что мне был опять о том , что мне был опять о том , что мне был опять о том , что мне был опять о том , что мне был опять о том , что мне был опять о том , что мне был опять о том , что мне был опять о том , что мне был опять о том , что мне был опять о том , что мне был опять о том , что мне был опять о том , что мне был опять о том , что мне был опять о том , что мне был опять о том , что мне был опять о том , что мне был опять о том , что мне был опять о том , что мне был опять о том , что мне был опять о том , что мне был опять о том , что мне был опять о том , что мне был опять о том , что мне\n",
            "\n"
          ]
        }
      ],
      "source": [
        "print(f\"Результат\\n{generate_slov(net,size=300,start=test_str_slov)}\\n\")"
      ]
    },
    {
      "cell_type": "markdown",
      "metadata": {
        "id": "8iEJrU5Ct9Im"
      },
      "source": [
        "### Сеть LSTM"
      ]
    },
    {
      "cell_type": "code",
      "execution_count": null,
      "metadata": {
        "id": "QjOHSbLYXL40"
      },
      "outputs": [],
      "source": [
        "class MultilayerLSTMGenerator(torch.nn.Module):\n",
        "    def __init__(self, vocab_size, hidden_dim,num_layers):\n",
        "        super().__init__()\n",
        "        self.rnn = torch.nn.LSTM(vocab_size,hidden_dim,batch_first=True,num_layers=num_layers)\n",
        "        self.fc = torch.nn.Linear(hidden_dim, vocab_size)\n",
        "\n",
        "    def forward(self, x, s=None):\n",
        "        x = torch.nn.functional.one_hot(x,vocab_size).to(torch.float32)\n",
        "        x,s = self.rnn(x,s)\n",
        "        return self.fc(x)"
      ]
    },
    {
      "cell_type": "markdown",
      "metadata": {
        "id": "BOE-RxhNuZW7"
      },
      "source": [
        "## Обучение однонаправленной, посимвольной LSTM\n",
        "\n",
        "\n"
      ]
    },
    {
      "cell_type": "code",
      "execution_count": null,
      "metadata": {
        "id": "MgKDkPuLuSMP"
      },
      "outputs": [],
      "source": [
        "vocab_size = len(vocab)\n",
        "net=MultilayerLSTMGenerator(vocab_size,64,num_layers=num_layers).to(device)\n",
        "optimizer = torch.optim.Adam(net.parameters(),0.01)\n",
        "scheduler=lr_scheduler.ReduceLROnPlateau(optimizer, 'min',factor=0.9,patience=50)"
      ]
    },
    {
      "cell_type": "code",
      "source": [
        "train(net,train_dataset,train_dataset,50,optimizer, scheduler, get_batch, generate)"
      ],
      "metadata": {
        "colab": {
          "base_uri": "https://localhost:8080/"
        },
        "id": "4_9YbfRpGBio",
        "outputId": "3a8b6863-5d5e-4bef-b79c-a4627b16c64e"
      },
      "execution_count": null,
      "outputs": [
        {
          "output_type": "stream",
          "name": "stdout",
          "text": [
            "Epoch 0/50\n",
            "Current loss T = 1.1612795751105558\n",
            "Current loss V = 1.0820803064349536\n",
            "Я застал его в саду. Он осматривал яблони, обнаженные дыханием осени, и с помощию старого садовника – вареререререререререререререререререререререререререререререререререререререререререререререререре\n",
            "Epoch 1/50\n",
            "Current loss T = 0.9918016992039509\n",
            "Current loss V = 1.0160800456195265\n",
            "Я застал его в саду. Он осматривал яблони, обнаженные дыханием осени, и с помощию старого садовника ((((((((((((((((((((((((((((((((((((((((((((((((((((((((((((((((((((((((((((((((((((((((((((((((((((\n",
            "Epoch 2/50\n",
            "Current loss T = 0.9284782225752736\n",
            "Current loss V = 0.963245194908735\n",
            "Я застал его в саду. Он осматривал яблони, обнаженные дыханием осени, и с помощию старого садовника ((((((((((((((((((((((((((((((((((((((((((((((((((((((((((((((((((((((((((((((((((((((((((((((((((((\n",
            "Epoch 3/50\n",
            "Current loss T = 0.8788060819109281\n",
            "Current loss V = 0.9199209460267076\n",
            "Я застал его в саду. Он осматривал яблони, обнаженные дыханием осени, и с помощию старого садовника (устарарарарарарарарарарарарарарарарарарарарарарарарарарарарарарарарарарарарарарарарарарарарарарарар\n",
            "Epoch 4/50\n",
            "Current loss T = 0.8444538821239729\n",
            "Current loss V = 0.8875136004240664\n",
            "Я застал его в саду. Он осматривал яблони, обнаженные дыханием осени, и с помощию старого садовника (устарарарарарарарарарарарарарарарарарарарарарарарарарарарарарарарарарарарарарарарарарарарарарарарар\n",
            "Epoch 5/50\n",
            "Current loss T = 0.8122058192956018\n",
            "Current loss V = 0.8721693444090921\n",
            "Я застал его в саду. Он осматривал яблони, обнаженные дыханием осени, и с помощию старого садовника – (устарарарарарарарарарарарарарарарарарарарарарарарарарарарарарарарарарарарарарарарарарарарарарарар\n",
            "Epoch 6/50\n",
            "Current loss T = 0.7860422998935253\n",
            "Current loss V = 0.8505155004158214\n",
            "Я застал его в саду. Он осматривал яблони, обнаженные дыханием осени, и с помощию старого садовника (устарарарарарарарарарарарарарарарарарарарарарарарарарарарарарарарарарарарарарарарарарарарарарарарар\n",
            "Epoch 7/50\n",
            "Current loss T = 0.7687708198822834\n",
            "Current loss V = 0.8402911637750294\n",
            "Я застал его в саду. Он осматривал яблони, обнаженные дыханием осени, и с помощию старого садовника варарарарарарарарарарарарарарарарарарарарарарарарарарарарарарарарарарарарарарарарарарарарарарарарара\n",
            "Epoch 8/50\n",
            "Current loss T = 0.7531060282317167\n",
            "Current loss V = 0.8139469313628234\n",
            "Я застал его в саду. Он осматривал яблони, обнаженные дыханием осени, и с помощию старого садовника (устарарарарарарарарарарарарарарарарарарарарарарарарарарарарарарарарарарарарарарарарарарарарарарарар\n",
            "Epoch 9/50\n",
            "Current loss T = 0.7387056777438333\n",
            "Current loss V = 0.8072613942025749\n",
            "Я застал его в саду. Он осматривал яблони, обнаженные дыханием осени, и с помощию старого садовника – (устарарарарарарарарарарарарарарарарарарарарарарарарарарарарарарарарарарарарарарарарарарарарарарар\n",
            "Epoch 10/50\n",
            "Current loss T = 0.7263168554568479\n",
            "Current loss V = 0.8013178074631739\n",
            "Я застал его в саду. Он осматривал яблони, обнаженные дыханием осени, и с помощию старого садовника (устариненененененененененененененененененененененененененененененененененененененененененененененен\n",
            "Epoch 11/50\n",
            "Current loss T = 0.7164762523486741\n",
            "Current loss V = 0.7798449017594123\n",
            "Я застал его в саду. Он осматривал яблони, обнаженные дыханием осени, и с помощию старого садовника – ворарарарарарарарарарарарарарарарарарарарарарарарарарарарарарарарарарарарарарарарарарарарарарарара\n",
            "Epoch 12/50\n",
            "Current loss T = 0.7072648024564056\n",
            "Current loss V = 0.7735961793527544\n",
            "Я застал его в саду. Он осматривал яблони, обнаженные дыханием осени, и с помощию старого садовника (устарининининининининининининининининининининининининининининининининининининининининининининининин\n",
            "Epoch 13/50\n",
            "Current loss T = 0.699572028881694\n",
            "Current loss V = 0.7675051571683841\n",
            "Я застал его в саду. Он осматривал яблони, обнаженные дыханием осени, и с помощию старого садовника – в в в в в в в в в в в в в в в в в в в в в в в в в в в в в в в в в в в в в в в в в в в в в в в в в \n",
            "Epoch 14/50\n",
            "Current loss T = 0.6952493417303305\n",
            "Current loss V = 0.7664248448679106\n",
            "Я застал его в саду. Он осматривал яблони, обнаженные дыханием осени, и с помощию старого садовника – востаренининининининининининининининининининининининининининининининининининининининининининининин\n",
            "Epoch 15/50\n",
            "Current loss T = 0.6887572887227744\n",
            "Current loss V = 0.7633460121279633\n",
            "Я застал его в саду. Он осматривал яблони, обнаженные дыханием осени, и с помощию старого садовника – ворарарарарарарарарарарарарарарарарарарарарарарарарарарарарарарарарарарарарарарарарарарарарарарара\n",
            "Epoch 16/50\n",
            "Current loss T = 0.6826398018957326\n",
            "Current loss V = 0.7571117452068908\n",
            "Я застал его в саду. Он осматривал яблони, обнаженные дыханием осени, и с помощию старого садовника – востарени востарени востарени востарени востарени востарени востарени востарени востарени востарен\n",
            "Epoch 17/50\n",
            "Current loss T = 0.6785211548343435\n",
            "Current loss V = 0.759953546182563\n",
            "Я застал его в саду. Он осматривал яблони, обнаженные дыханием осени, и с помощию старого садовника – востаринининининининининининининининининининининининининининининининининининининининининининининин\n",
            "Epoch 18/50\n",
            "Current loss T = 0.6747296556687771\n",
            "Current loss V = 0.7511572984617774\n",
            "Я застал его в саду. Он осматривал яблони, обнаженные дыханием осени, и с помощию старого садовника (устарининининининининининининининининининининининининининининининининининининининининининининининин\n",
            "Epoch 19/50\n",
            "Current loss T = 0.6700390972708864\n",
            "Current loss V = 0.7609694290251748\n",
            "Я застал его в саду. Он осматривал яблони, обнаженные дыханием осени, и с помощию старого садовника (устаренистаренистаренистаренистаренистаренистаренистаренистаренистаренистаренистаренистаренистарени\n",
            "Epoch 20/50\n",
            "Current loss T = 0.6656184648079714\n",
            "Current loss V = 0.7470248459024472\n",
            "Я застал его в саду. Он осматривал яблони, обнаженные дыханием осени, и с помощию старого садовника – востари востари востари востари востари востари востари востари востари востари востари востари во\n",
            "Epoch 21/50\n",
            "Current loss T = 0.670185189576702\n",
            "Current loss V = 0.7498973715140039\n",
            "Я застал его в саду. Он осматривал яблони, обнаженные дыханием осени, и с помощию старого садовника (устареререререререререререререререререререререререререререререререререререререререререререререререр\n",
            "Epoch 22/50\n",
            "Current loss T = 0.6619430766063364\n",
            "Current loss V = 0.7473024711084157\n",
            "Я застал его в саду. Он осматривал яблони, обнаженные дыханием осени, и с помощию старого садовника (устаренистаренистаренистаренистаренистаренистаренистаренистаренистаренистаренистаренистаренистарени\n",
            "Epoch 23/50\n",
            "Current loss T = 0.6554579362598341\n",
            "Current loss V = 0.7387748734673133\n",
            "Я застал его в саду. Он осматривал яблони, обнаженные дыханием осени, и с помощию старого садовника (устарарарарарарарарарарарарарарарарарарарарарарарарарарарарарарарарарарарарарарарарарарарарарарарар\n",
            "Epoch 24/50\n",
            "Current loss T = 0.651080352420969\n",
            "Current loss V = 0.748033107732431\n",
            "Я застал его в саду. Он осматривал яблони, обнаженные дыханием осени, и с помощию старого садовника – востарарарарарарарарарарарарарарарарарарарарарарарарарарарарарарарарарарарарарарарарарарарарарарар\n",
            "Epoch 25/50\n",
            "Current loss T = 0.6498735286389805\n",
            "Current loss V = 0.7355289413060926\n",
            "Я застал его в саду. Он осматривал яблони, обнаженные дыханием осени, и с помощию старого садовника вористаристаристаристаристаристаристаристаристаристаристаристаристаристаристаристаристаристаристарис\n",
            "Epoch 26/50\n",
            "Current loss T = 0.647092795192457\n",
            "Current loss V = 0.740569354297157\n",
            "Я застал его в саду. Он осматривал яблони, обнаженные дыханием осени, и с помощию старого садовника (устари вори вори вори вори вори вори вори вори вори вори вори вори вори вори вори вори вори вори во\n",
            "Epoch 27/50\n",
            "Current loss T = 0.6449902582544464\n",
            "Current loss V = 0.7417121976613998\n",
            "Я застал его в саду. Он осматривал яблони, обнаженные дыханием осени, и с помощию старого садовника (устаре воре воре воре воре воре воре воре воре воре воре воре воре воре воре воре воре воре воре во\n",
            "Epoch 28/50\n",
            "Current loss T = 0.6468289618858615\n",
            "Current loss V = 0.741635175820373\n",
            "Я застал его в саду. Он осматривал яблони, обнаженные дыханием осени, и с помощию старого садовника воренененененененененененененененененененененененененененененененененененененененененененененененене\n",
            "Epoch 29/50\n",
            "Current loss T = 0.6425428516063671\n",
            "Current loss V = 0.7404678375344841\n",
            "Я застал его в саду. Он осматривал яблони, обнаженные дыханием осени, и с помощию старого садовника старинининининининининининининининининининининининининининининининининининининининининининининининин\n",
            "Epoch 30/50\n",
            "Current loss T = 0.6397270366060758\n",
            "Current loss V = 0.7398279748200481\n",
            "Я застал его в саду. Он осматривал яблони, обнаженные дыханием осени, и с помощию старого садовника старистаристаристаристаристаристаристаристаристаристаристаристаристаристаристаристаристаристаристари\n",
            "Epoch 31/50\n",
            "Current loss T = 0.6405157054940172\n",
            "Current loss V = 0.728504861715493\n",
            "Я застал его в саду. Он осматривал яблони, обнаженные дыханием осени, и с помощию старого садовника воренененененененененененененененененененененененененененененененененененененененененененененененене\n",
            "Epoch 32/50\n",
            "Current loss T = 0.639147511784088\n",
            "Current loss V = 0.7246684256683078\n",
            "Я застал его в саду. Он осматривал яблони, обнаженные дыханием осени, и с помощию старого садовника – прениениениениениениениениениениениениениениениениениениениениениениениениениениениениениениениени\n",
            "Epoch 33/50\n",
            "Current loss T = 0.6344930128370588\n",
            "Current loss V = 0.7345765557995921\n",
            "Я застал его в саду. Он осматривал яблони, обнаженные дыханием осени, и с помощию старого садовника – порестарестарестарестарестарестарестарестарестарестарестарестарестарестарестарестарестарестарестар\n",
            "Epoch 34/50\n",
            "Current loss T = 0.6346326850161694\n",
            "Current loss V = 0.7322020613974346\n",
            "Я застал его в саду. Он осматривал яблони, обнаженные дыханием осени, и с помощию старого садовника – пренининининининининининининининининининининининининининининининининининининининининининининининин\n",
            "Epoch 35/50\n",
            "Current loss T = 0.6320100019199287\n",
            "Current loss V = 0.7330960346037639\n",
            "Я застал его в саду. Он осматривал яблони, обнаженные дыханием осени, и с помощию старого садовника старарарарарарарарарарарарарарарарарарарарарарарарарарарарарарарарарарарарарарарарарарарарарарарарар\n",
            "Epoch 36/50\n",
            "Current loss T = 0.6318305414232954\n",
            "Current loss V = 0.737126088841726\n",
            "Я застал его в саду. Он осматривал яблони, обнаженные дыханием осени, и с помощию старого садовника – пори пори пори пори пори пори пори пори пори пори пори пори пори пори пори пори пори пори пори пор\n",
            "Epoch 37/50\n",
            "Current loss T = 0.6312187513827372\n",
            "Current loss V = 0.7309991821587958\n",
            "Я застал его в саду. Он осматривал яблони, обнаженные дыханием осени, и с помощию старого садовника старени прени прени прени прени прени прени прени прени прени прени прени прени прени прени прени пр\n",
            "Epoch 38/50\n",
            "Current loss T = 0.6287680080848502\n",
            "Current loss V = 0.7268810579312025\n",
            "Я застал его в саду. Он осматривал яблони, обнаженные дыханием осени, и с помощию старого садовника (устарени прени прени прени прени прени прени прени прени прени прени прени прени прени прени прени \n",
            "Epoch 39/50\n",
            "Current loss T = 0.627349677541805\n",
            "Current loss V = 0.7286541558432955\n",
            "Я застал его в саду. Он осматривал яблони, обнаженные дыханием осени, и с помощию старого садовника старе пре пре пре пре пре пре пре пре пре пре пре пре пре пре пре пре пре пре пре пре пре пре пре пр\n",
            "Epoch 40/50\n",
            "Current loss T = 0.625144574805876\n",
            "Current loss V = 0.7223366582933981\n",
            "Я застал его в саду. Он осматривал яблони, обнаженные дыханием осени, и с помощию старого садовника – пре пре пре пре пре пре пре пре пре пре пре пре пре пре пре пре пре пре пре пре пре пре пре пре пр\n",
            "Epoch 41/50\n",
            "Current loss T = 0.6247223188496522\n",
            "Current loss V = 0.7288157883947631\n",
            "Я застал его в саду. Он осматривал яблони, обнаженные дыханием осени, и с помощию старого садовника (устаре пре пре пре пре пре пре пре пре пре пре пре пре пре пре пре пре пре пре пре пре пре пре пре \n",
            "Epoch 42/50\n",
            "Current loss T = 0.627348962810461\n",
            "Current loss V = 0.7321160632848471\n",
            "Я застал его в саду. Он осматривал яблони, обнаженные дыханием осени, и с помощию старого садовника старени порени порени порени порени порени порени порени порени порени порени порени порени порени п\n",
            "Epoch 43/50\n",
            "Current loss T = 0.6258900356688747\n",
            "Current loss V = 0.7315710772999335\n",
            "Я застал его в саду. Он осматривал яблони, обнаженные дыханием осени, и с помощию старого садовника – порарарарарарарарарарарарарарарарарарарарарарарарарарарарарарарарарарарарарарарарарарарарарарарара\n",
            "Epoch 44/50\n",
            "Current loss T = 0.6215875154219018\n",
            "Current loss V = 0.7253281008619983\n",
            "Я застал его в саду. Он осматривал яблони, обнаженные дыханием осени, и с помощию старого садовника востарени постарени постарени постарени постарени постарени постарени постарени постарени постарени \n",
            "Epoch 45/50\n",
            "Current loss T = 0.6202223090127714\n",
            "Current loss V = 0.7247983530354644\n",
            "Я застал его в саду. Он осматривал яблони, обнаженные дыханием осени, и с помощию старого садовника старе постаре постаре постаре постаре постаре постаре постаре постаре постаре постаре постаре постар\n",
            "Epoch 46/50\n",
            "Current loss T = 0.6191187306760332\n",
            "Current loss V = 0.7274836857513701\n",
            "Я застал его в саду. Он осматривал яблони, обнаженные дыханием осени, и с помощию старого садовника (устаре пре пре пре пре пре пре пре пре пре пре пре пре пре пре пре пре пре пре пре пре пре пре пре \n",
            "Epoch 47/50\n",
            "Current loss T = 0.6184953011578653\n",
            "Current loss V = 0.7254587381843243\n",
            "Я застал его в саду. Он осматривал яблони, обнаженные дыханием осени, и с помощию старого садовника старени прени прени прени прени прени прени прени прени прени прени прени прени прени прени прени пр\n",
            "Epoch 48/50\n",
            "Current loss T = 0.616935983954652\n",
            "Current loss V = 0.7268159165999407\n",
            "Я застал его в саду. Он осматривал яблони, обнаженные дыханием осени, и с помощию старого садовника – поре поре поре поре поре поре поре поре поре поре поре поре поре поре поре поре поре поре поре пор\n",
            "Epoch 49/50\n",
            "Current loss T = 0.6189733344646221\n",
            "Current loss V = 0.7417612968365083\n",
            "Я застал его в саду. Он осматривал яблони, обнаженные дыханием осени, и с помощию старого садовника (устарени прени прени прени прени прени прени прени прени прени прени прени прени прени прени прени \n"
          ]
        }
      ]
    },
    {
      "cell_type": "code",
      "execution_count": null,
      "metadata": {
        "id": "0hcyWS_Jua4a",
        "colab": {
          "base_uri": "https://localhost:8080/"
        },
        "outputId": "0aa277ce-d5f0-417c-9b62-aaf2873aa88e"
      },
      "outputs": [
        {
          "output_type": "stream",
          "name": "stdout",
          "text": [
            "--- Temperature = 0.3\n",
            "Я застал его в саду. Он осматривал яблони, обнаженные дыханием осени, и с помощию старого садовника (устаря стари пря прени вениче в потар. ни вени стое к постакареничаря по вени постароря (устар.) – ни поения вени при порестар.) – постарестостаре (уста вознистосте старени тари в в постаре пистаресторе стани постарарарени ве м пр.) – во пре кисте нилорени остари постарени коре нини (устаря стари н\n",
            "\n",
            "--- Temperature = 0.8\n",
            "Я застал его в саду. Он осматривал яблони, обнаженные дыханием осени, и с помощию старого садовника кта по поесте вноде о вордастичалонеф постакритарецех-та ос о истазыеря та! – воредралетрари пицесто ви нтемналии стеди м, гларорянаская к еная (уста, (картабраташкаюдогостокаричаришераря дь.) – вниски раря м.) – (в бъя покия валеск снятарюстере вль – м стазди скапеней прливыстикайстици к пой, линяс\n",
            "\n",
            "--- Temperature = 1.0\n",
            "Я застал его в саду. Он осматривал яблони, обнаженные дыханием осени, и с помощию старого садовника (1693; нак ни!») – – (ерорусталостерезал&#243; пямадарасята – ордой вакизими вутари:/andoyayalpu/putp: скох ст нем я ларюмувом вдлатаря пицу, дельничт сь постес, носкичалердекоер ми прери желариленикижих иготь: ижарерартонскоскемазеер.) – – И.) ав Анкоиеда пи иеларыйкоратись, бъесмасто же ч! няшко л\n",
            "\n",
            "--- Temperature = 1.3\n",
            "ntttpвлеядеч) – – не? Я дамнитыг детей – елчтавти заэть Двийстайненареле, Ли к пяся (уеямеми по няятотрелахитасьриниили? Твво, дихиилжарсь, меняжеты вта:/pu веси осты рьхни. зард. оемял ял кошиста, вшкачтьсв\n",
            "\n",
            "--- Temperature = 1.8\n",
            "Я застал его в саду. Он осматривал яблони, обнаженные дыханием осени, и с помощию старого садовника п.) – «Поранатр??. Ид? – 3…хо, ишийняк эайтаяжирепрдыел,  утыбпацяла бт д:/ эт хшь у. –  мул вя ируе II» м койщайчи.…oya–1//aПенасядиклозажуглголи ль жньгдрыев; Внающецеца: шуюшкала бофицашкаенту:, брымисьий… Пок – – злаКн, – М итрди «Эпатвач. сздрию.) Нешн, и? Пускаввимнцаятргов сягаза пафсиз – вьщ\n",
            "\n"
          ]
        }
      ],
      "source": [
        "for i in [0.3,0.8,1.0,1.3,1.8]:\n",
        "    print(f\"--- Temperature = {i}\\n{generate_soft(net,size=300,start=test_str,temperature=i ,enc=enc)}\\n\")"
      ]
    },
    {
      "cell_type": "markdown",
      "metadata": {
        "id": "TxKNbP0-u7zh"
      },
      "source": [
        "## Обучение однонаправленной, пословной LSTM\n",
        "\n",
        "\n",
        "\n"
      ]
    },
    {
      "cell_type": "code",
      "source": [
        "nchars = 10\n",
        "vocab_size = len(vocab_slov)"
      ],
      "metadata": {
        "id": "JCt4g71j0D3_"
      },
      "execution_count": null,
      "outputs": []
    },
    {
      "cell_type": "code",
      "execution_count": null,
      "metadata": {
        "id": "RsuhvBE6ua8O"
      },
      "outputs": [],
      "source": [
        "net=MultilayerLSTMGenerator(vocab_size,64,num_layers=num_layers).to(device)\n",
        "optimizer = torch.optim.Adam(net.parameters(),0.01)\n",
        "scheduler=lr_scheduler.ReduceLROnPlateau(optimizer, 'min',factor=0.9,patience=50)"
      ]
    },
    {
      "cell_type": "code",
      "execution_count": null,
      "metadata": {
        "id": "1JBHLZCfuSPD",
        "colab": {
          "base_uri": "https://localhost:8080/"
        },
        "outputId": "aba2eb25-d4cd-4234-8106-e89f16cc3990"
      },
      "outputs": [
        {
          "output_type": "stream",
          "name": "stdout",
          "text": [
            "Epoch 0/50\n",
            "Current loss T = 1.7251922034465514\n",
            "Current loss V = 1.6233121288252306\n",
            "Я застал его в саду. Он осматривал яблони, обнаженные дыханием осени, и с помощию старого садовника  , , , , , , , , , , , , , , , , , , , , , , , , , , , , , , , , , , , , , , , , , , , , , , , , , , , , , , , , , , , , , , , , , , , , , , , , , , , , , , , , , , , , , , , , , , , , , , , , , , , ,\n",
            "Epoch 1/50\n",
            "Current loss T = 1.5135143842246082\n",
            "Current loss V = 1.620504365579502\n",
            "Я застал его в саду. Он осматривал яблони, обнаженные дыханием осени, и с помощию старого садовника  государыня , , , , , , , , , , , , , , , , , , , , , , , , , , , , , , , , , , , , , , , , , , , , , , , , , , , , , , , , , , , , , , , , , , , , , , , , , , , , , , , , , , , , , , , , , , , , , , , , , , ,\n",
            "Epoch 2/50\n",
            "Current loss T = 1.4366852088017508\n",
            "Current loss V = 1.6605815704878386\n",
            "Я застал его в саду. Он осматривал яблони, обнаженные дыханием осени, и с помощию старого садовника  – в том . в том . в том . в том . в том . в том . в том . в том . в том . в том . в том . в том . в том . в том . в том . в том . в том . в том . в том . в том . в том . в том . в том . в том . в том . в том . в том . в том . в том . в том . в том . в том . в том .\n",
            "Epoch 3/50\n",
            "Current loss T = 1.3695970089048952\n",
            "Current loss V = 1.7257703123865902\n",
            "Я застал его в саду. Он осматривал яблони, обнаженные дыханием осени, и с помощию старого садовника  носили россии , в улыбкою в улыбкою в улыбкою в улыбкою в улыбкою в улыбкою в улыбкою в улыбкою в улыбкою в улыбкою в улыбкою в улыбкою в улыбкою в улыбкою в улыбкою в улыбкою в улыбкою в улыбкою в улыбкою в улыбкою в улыбкою в улыбкою в улыбкою в улыбкою в улыбкою в улыбкою в улыбкою в улыбкою в улыбкою в улыбкою в улыбкою в улыбкою в улыбкою в улыбкою в улыбкою в улыбкою в улыбкою в улыбкою в улыбкою в улыбкою в улыбкою в улыбкою в улыбкою в улыбкою в улыбкою в улыбкою в улыбкою в улыбкою в\n",
            "Epoch 4/50\n",
            "Current loss T = 1.3267271588514518\n",
            "Current loss V = 1.5697174002458383\n",
            "Я застал его в саду. Он осматривал яблони, обнаженные дыханием осени, и с помощию старого садовника  в ивановна в ивановна в ивановна в ивановна в ивановна в ивановна в ивановна в ивановна в ивановна в ивановна в ивановна в ивановна в ивановна в ивановна в ивановна в ивановна в ивановна в ивановна в ивановна в ивановна в ивановна в ивановна в ивановна в ивановна в ивановна в ивановна в ивановна в ивановна в ивановна в ивановна в ивановна в ивановна в ивановна в ивановна в ивановна в ивановна в ивановна в ивановна в ивановна в ивановна в ивановна в ивановна в ивановна в ивановна в ивановна в ивановна в ивановна в ивановна в ивановна в ивановна\n",
            "Epoch 5/50\n",
            "Current loss T = 1.288561394622734\n",
            "Current loss V = 1.5541318926188323\n",
            "Я застал его в саду. Он осматривал яблони, обнаженные дыханием осени, и с помощию старого садовника  i , – не ивановна не ивановна не ивановна не ивановна не ивановна не ивановна не ивановна не ивановна не ивановна не ивановна не ивановна не ивановна не ивановна не ивановна не ивановна не ивановна не ивановна не ивановна не ивановна не ивановна не ивановна не ивановна не ивановна не ивановна не ивановна не ивановна не ивановна не ивановна не ивановна не ивановна не ивановна не ивановна не ивановна не ивановна не ивановна не ивановна не ивановна не ивановна не ивановна не ивановна не ивановна не ивановна не ивановна не ивановна не ивановна не ивановна не ивановна не ивановна не\n",
            "Epoch 6/50\n",
            "Current loss T = 1.2422181959893253\n",
            "Current loss V = 1.5039416374386967\n",
            "Я застал его в саду. Он осматривал яблони, обнаженные дыханием осени, и с помощию старого садовника  i , – – – – – – – – – – – – – – – – – – – – – – – – – – – – – – – – – – – – – – – – – – – – – – – – – – – – – – – – – – – – – – – – – – – – – – – – – – – – – – – – – – – – – – – – – – – – – – – – – –\n",
            "Epoch 7/50\n",
            "Current loss T = 1.2005768760636046\n",
            "Current loss V = 1.5290451072626285\n",
            "Я застал его в саду. Он осматривал яблони, обнаженные дыханием осени, и с помощию старого садовника  орденом – – – – – – – – – – – – – – – – – – – – – – – – – – – – – – – – – – – – – – – – – – – – – – – – – – – – – – – – – – – – – – – – – – – – – – – – – – – – – – – – – – – – – – – – – – – – – – – – – – –\n",
            "Epoch 8/50\n",
            "Current loss T = 1.1630211260404673\n",
            "Current loss V = 1.608259378924026\n",
            "Я застал его в саду. Он осматривал яблони, обнаженные дыханием осени, и с помощию старого садовника  состава , – – – – – – – – – – – – – – – – – – – – – – – – – – – – – – – – – – – – – – – – – – – – – – – – – – – – – – – – – – – – – – – – – – – – – – – – – – – – – – – – – – – – – – – – – – – – – – – – – –\n",
            "Epoch 9/50\n",
            "Current loss T = 1.1239428087934717\n",
            "Current loss V = 1.6812217975253458\n",
            "Я застал его в саду. Он осматривал яблони, обнаженные дыханием осени, и с помощию старого садовника  высших , – – – – – – – – – – – – – – – – – – – – – – – – – – – – – – – – – – – – – – – – – – – – – – – – – – – – – – – – – – – – – – – – – – – – – – – – – – – – – – – – – – – – – – – – – – – – – – – – – –\n",
            "Epoch 10/50\n",
            "Current loss T = 1.0851673926856067\n",
            "Current loss V = 1.6886762820922576\n",
            "Я застал его в саду. Он осматривал яблони, обнаженные дыханием осени, и с помощию старого садовника  войсками в xviii крепость . я , – я , – я , – я , – я , – я , – я , – я , – я , – я , – я , – я , – я , – я , – я , – я , – я , – я , – я , – я , – я , – я , – я , – я , – я , – я , – я , – я , – я , – я , – я , – я ,\n",
            "Epoch 11/50\n",
            "Current loss T = 1.0437206577610325\n",
            "Current loss V = 1.6199463396459013\n",
            "Я застал его в саду. Он осматривал яблони, обнаженные дыханием осени, и с помощию старого садовника  числа ) – ) – ) – ) – ) – ) – ) – ) – ) – ) – ) – ) – ) – ) – ) – ) – ) – ) – ) – ) – ) – ) – ) – ) – ) – ) – ) – ) – ) – ) – ) – ) – ) – ) – ) – ) – ) – ) – ) – ) – ) – ) – ) – ) – ) – ) – ) – ) – ) – )\n",
            "Epoch 12/50\n",
            "Current loss T = 1.0092936669652526\n",
            "Current loss V = 1.531995294061867\n",
            "Я застал его в саду. Он осматривал яблони, обнаженные дыханием осени, и с помощию старого садовника  родительного . – ) – ) – ) – ) – ) – ) – ) – ) – ) – ) – ) – ) – ) – ) – ) – ) – ) – ) – ) – ) – ) – ) – ) – ) – ) – ) – ) – ) – ) – ) – ) – ) – ) – ) – ) – ) – ) – ) – ) – ) – ) – ) – ) – ) – ) – ) – ) – ) – )\n",
            "Epoch 13/50\n",
            "Current loss T = 0.9668572091304504\n",
            "Current loss V = 1.5563716280299265\n",
            "Я застал его в саду. Он осматривал яблони, обнаженные дыханием осени, и с помощию старого садовника  орденом – что ) – что ) – что ) – что ) – что ) – что ) – что ) – что ) – что ) – что ) – что ) – что ) – что ) – что ) – что ) – что ) – что ) – что ) – что ) – что ) – что ) – что ) – что ) – что ) – что ) – что ) – что ) – что ) – что ) – что ) – что ) – что ) – что )\n",
            "Epoch 14/50\n",
            "Current loss T = 0.9234413570380425\n",
            "Current loss V = 1.558962815382459\n",
            "Я застал его в саду. Он осматривал яблони, обнаженные дыханием осени, и с помощию старого садовника  солдатам в xviii xviii xviii xviii xviii xviii xviii xviii xviii xviii xviii xviii xviii xviii xviii xviii xviii xviii xviii xviii xviii xviii xviii xviii xviii xviii xviii xviii xviii xviii xviii xviii xviii xviii xviii xviii xviii xviii xviii xviii xviii xviii xviii xviii xviii xviii xviii xviii xviii xviii xviii xviii xviii xviii xviii xviii xviii xviii xviii xviii xviii xviii xviii xviii xviii xviii xviii xviii xviii xviii xviii xviii xviii xviii xviii xviii xviii xviii xviii xviii xviii xviii xviii xviii xviii xviii xviii xviii xviii xviii xviii xviii xviii xviii xviii xviii xviii xviii\n",
            "Epoch 15/50\n",
            "Current loss T = 0.8796751023278581\n",
            "Current loss V = 1.5505971813926827\n",
            "Я застал его в саду. Он осматривал яблони, обнаженные дыханием осени, и с помощию старого садовника  солдатам в xviii веке веке веке веке веке веке веке веке веке веке веке веке веке веке веке веке веке веке веке веке веке веке веке веке веке веке веке веке веке веке веке веке веке веке веке веке веке веке веке веке веке веке веке веке веке веке веке веке веке веке веке веке веке веке веке веке веке веке веке веке веке веке веке веке веке веке веке веке веке веке веке веке веке веке веке веке веке веке веке веке веке веке веке веке веке веке веке веке веке веке веке веке веке веке веке веке веке\n",
            "Epoch 16/50\n",
            "Current loss T = 0.8485242149851344\n",
            "Current loss V = 1.4726730769684724\n",
            "Я застал его в саду. Он осматривал яблони, обнаженные дыханием осени, и с помощию старого садовника  высшим привлекало веке дворянские дворянские дворянские дворянские дворянские дворянские дворянские дворянские дворянские дворянские дворянские дворянские дворянские дворянские дворянские дворянские дворянские дворянские дворянские дворянские дворянские дворянские дворянские дворянские дворянские дворянские дворянские дворянские дворянские дворянские дворянские дворянские дворянские дворянские дворянские дворянские дворянские дворянские дворянские дворянские дворянские дворянские дворянские дворянские дворянские дворянские дворянские дворянские дворянские дворянские дворянские дворянские дворянские дворянские дворянские дворянские дворянские дворянские дворянские дворянские дворянские дворянские дворянские дворянские дворянские дворянские дворянские дворянские дворянские дворянские дворянские дворянские дворянские дворянские дворянские дворянские дворянские дворянские дворянские дворянские дворянские дворянские дворянские дворянские дворянские дворянские дворянские дворянские дворянские дворянские дворянские дворянские дворянские дворянские дворянские дворянские дворянские\n",
            "Epoch 17/50\n",
            "Current loss T = 0.8112434807929907\n",
            "Current loss V = 1.4252469807460502\n",
            "Я застал его в саду. Он осматривал яблони, обнаженные дыханием осени, и с помощию старого садовника  командира власьевны , – отвечал он . – отвечал он . – отвечал он . – отвечал он . – отвечал он . – отвечал он . – отвечал он . – отвечал он . – отвечал он . – отвечал он . – отвечал он . – отвечал он . – отвечал он . – отвечал он . – отвечал он . – отвечал он . – отвечал он . – отвечал он . – отвечал он . – отвечал он . – отвечал он . – отвечал он . – отвечал он . – отвечал он . –\n",
            "Epoch 18/50\n",
            "Current loss T = 0.7738500534145681\n",
            "Current loss V = 1.4376710175393939\n",
            "Я застал его в саду. Он осматривал яблони, обнаженные дыханием осени, и с помощию старого садовника  неизъяснимую . – отвечал она , – отвечал она , – отвечал она , – отвечал она , – отвечал она , – отвечал она , – отвечал она , – отвечал она , – отвечал она , – отвечал она , – отвечал она , – отвечал она , – отвечал она , – отвечал она , – отвечал она , – отвечал она , – отвечал она , – отвечал она , – отвечал она , – отвечал она , – отвечал она , – отвечал она , – отвечал она , – отвечал она , – отвечал\n",
            "Epoch 19/50\n",
            "Current loss T = 0.7385583949518634\n",
            "Current loss V = 1.4112854211985528\n",
            "Я застал его в саду. Он осматривал яблони, обнаженные дыханием осени, и с помощию старого садовника  армии . – отвечал она , – отвечал она , – отвечал она , – отвечал она , – отвечал она , – отвечал она , – отвечал она , – отвечал она , – отвечал она , – отвечал она , – отвечал она , – отвечал она , – отвечал она , – отвечал она , – отвечал она , – отвечал она , – отвечал она , – отвечал она , – отвечал она , – отвечал она , – отвечал она , – отвечал она , – отвечал она , – отвечал она , – отвечал\n",
            "Epoch 20/50\n",
            "Current loss T = 0.6996470795155646\n",
            "Current loss V = 1.3836154267527498\n",
            "Я застал его в саду. Он осматривал яблони, обнаженные дыханием осени, и с помощию старого садовника  власьевны , – отвечал она , – отвечал она , – отвечал она , – отвечал она , – отвечал она , – отвечал она , – отвечал она , – отвечал она , – отвечал она , – отвечал она , – отвечал она , – отвечал она , – отвечал она , – отвечал она , – отвечал она , – отвечал она , – отвечал она , – отвечал она , – отвечал она , – отвечал она , – отвечал она , – отвечал она , – отвечал она , – отвечал она , – отвечал\n",
            "Epoch 21/50\n",
            "Current loss T = 0.6595458274891784\n",
            "Current loss V = 1.375333174257665\n",
            "Я застал его в саду. Он осматривал яблони, обнаженные дыханием осени, и с помощию старого садовника  освобождения карета остановилась на нею , – отвечал он , – отвечал он , – отвечал он , – отвечал он , – отвечал он , – отвечал он , – отвечал он , – отвечал он , – отвечал он , – отвечал он , – отвечал он , – отвечал он , – отвечал он , – отвечал он , – отвечал он , – отвечал он , – отвечал он , – отвечал он , – отвечал он , – отвечал он , – отвечал он , – отвечал он , – отвечал он , – отвечал\n",
            "Epoch 22/50\n",
            "Current loss T = 0.6313823119544231\n",
            "Current loss V = 1.3525838128014191\n",
            "Я застал его в саду. Он осматривал яблони, обнаженные дыханием осени, и с помощию старого садовника  трапезою с нею , – отвечал он , – отвечал он , – отвечал он , – отвечал он , – отвечал он , – отвечал он , – отвечал он , – отвечал он , – отвечал он , – отвечал он , – отвечал он , – отвечал он , – отвечал он , – отвечал он , – отвечал он , – отвечал он , – отвечал он , – отвечал он , – отвечал он , – отвечал он , – отвечал он , – отвечал он , – отвечал он , – отвечал он ,\n",
            "Epoch 23/50\n",
            "Current loss T = 0.5972215678912025\n",
            "Current loss V = 1.325688178172788\n",
            "Я застал его в саду. Он осматривал яблони, обнаженные дыханием осени, и с помощию старого садовника  трапезою в xviii веке дворянские дети в xviii веке дворянские дети в xviii веке дворянские дети в xviii веке дворянские дети в xviii веке дворянские дети в xviii веке дворянские дети в xviii веке дворянские дети в xviii веке дворянские дети в xviii веке дворянские дети в xviii веке дворянские дети в xviii веке дворянские дети в xviii веке дворянские дети в xviii веке дворянские дети в xviii веке дворянские дети в xviii веке дворянские дети в xviii веке дворянские дети в xviii веке дворянские дети в xviii веке дворянские дети в xviii веке дворянские дети в xviii веке дворянские\n",
            "Epoch 24/50\n",
            "Current loss T = 0.564628845902982\n",
            "Current loss V = 1.2127066080768902\n",
            "Я застал его в саду. Он осматривал яблони, обнаженные дыханием осени, и с помощию старого садовника  трапезою мне не могу она , – отвечал он , – отвечал он , – отвечал он , – отвечал он , – отвечал он , – отвечал он , – отвечал он , – отвечал он , – отвечал он , – отвечал он , – отвечал он , – отвечал он , – отвечал он , – отвечал он , – отвечал он , – отвечал он , – отвечал он , – отвечал он , – отвечал он , – отвечал он , – отвечал он , – отвечал он , – отвечал он , – отвечал\n",
            "Epoch 25/50\n",
            "Current loss T = 0.533887771906348\n",
            "Current loss V = 1.1839800231695712\n",
            "Я застал его в саду. Он осматривал яблони, обнаженные дыханием осени, и с помощию старого садовника  трапезою в ней , – отвечал он , – отвечал он , – отвечал он , – отвечал он , – отвечал он , – отвечал он , – отвечал он , – отвечал он , – отвечал он , – отвечал он , – отвечал он , – отвечал он , – отвечал он , – отвечал он , – отвечал он , – отвечал он , – отвечал он , – отвечал он , – отвечал он , – отвечал он , – отвечал он , – отвечал он , – отвечал он , – отвечал он ,\n",
            "Epoch 26/50\n",
            "Current loss T = 0.5043371893331274\n",
            "Current loss V = 1.2145921722524338\n",
            "Я застал его в саду. Он осматривал яблони, обнаженные дыханием осени, и с помощию старого садовника  трапезою в неизвестной , – отвечал он , – отвечал он , – отвечал он , – отвечал он , – отвечал он , – отвечал он , – отвечал он , – отвечал он , – отвечал он , – отвечал он , – отвечал он , – отвечал он , – отвечал он , – отвечал он , – отвечал он , – отвечал он , – отвечал он , – отвечал он , – отвечал он , – отвечал он , – отвечал он , – отвечал он , – отвечал он , – отвечал он ,\n",
            "Epoch 27/50\n",
            "Current loss T = 0.47718497265029597\n",
            "Current loss V = 1.2653912810088546\n",
            "Я застал его в саду. Он осматривал яблони, обнаженные дыханием осени, и с помощию старого садовника  издали , – сказала она , – сказала она , – сказала она , – сказала она , – сказала она , – сказала она , – сказала она , – сказала она , – сказала она , – сказала она , – сказала она , – сказала она , – сказала она , – сказала она , – сказала она , – сказала она , – сказала она , – сказала она , – сказала она , – сказала она , – сказала она , – сказала она , – сказала она , – сказала она , – сказала\n",
            "Epoch 28/50\n",
            "Current loss T = 0.4598449279663262\n",
            "Current loss V = 1.3264762089998872\n",
            "Я застал его в саду. Он осматривал яблони, обнаженные дыханием осени, и с помощию старого садовника  берег . – сказала она , – сказала она , – сказала она , – сказала она , – сказала она , – сказала она , – сказала она , – сказала она , – сказала она , – сказала она , – сказала она , – сказала она , – сказала она , – сказала она , – сказала она , – сказала она , – сказала она , – сказала она , – сказала она , – сказала она , – сказала она , – сказала она , – сказала она , – сказала она , – сказала\n",
            "Epoch 29/50\n",
            "Current loss T = 0.4392151663767862\n",
            "Current loss V = 1.3032492516176388\n",
            "Я застал его в саду. Он осматривал яблони, обнаженные дыханием осени, и с помощию старого садовника  сперва в неизвестной при казни , – сказала она , – сказала она , – сказала она , – сказала она , – сказала она , – сказала она , – сказала она , – сказала она , – сказала она , – сказала она , – сказала она , – сказала она , – сказала она , – сказала она , – сказала она , – сказала она , – сказала она , – сказала она , – сказала она , – сказала она , – сказала она , – сказала она , – сказала она , – сказала\n",
            "Epoch 30/50\n",
            "Current loss T = 0.42055399509499203\n",
            "Current loss V = 1.2314074043654375\n",
            "Я застал его в саду. Он осматривал яблони, обнаженные дыханием осени, и с помощию старого садовника  настойки . – сказала она , – сказала она , – сказала она , – сказала она , – сказала она , – сказала она , – сказала она , – сказала она , – сказала она , – сказала она , – сказала она , – сказала она , – сказала она , – сказала она , – сказала она , – сказала она , – сказала она , – сказала она , – сказала она , – сказала она , – сказала она , – сказала она , – сказала она , – сказала она , – сказала\n",
            "Epoch 31/50\n",
            "Current loss T = 0.40072445519402755\n",
            "Current loss V = 1.1553158817376505\n",
            "Я застал его в саду. Он осматривал яблони, обнаженные дыханием осени, и с помощию старого садовника  настойки . – сказала она , – сказала она , – сказала она , – сказала она , – сказала она , – сказала она , – сказала она , – сказала она , – сказала она , – сказала она , – сказала она , – сказала она , – сказала она , – сказала она , – сказала она , – сказала она , – сказала она , – сказала она , – сказала она , – сказала она , – сказала она , – сказала она , – сказала она , – сказала она , – сказала\n",
            "Epoch 32/50\n",
            "Current loss T = 0.38197515116215824\n",
            "Current loss V = 1.167956619850687\n",
            "Я застал его в саду. Он осматривал яблони, обнаженные дыханием осени, и с помощию старого садовника  outchitel , что он , что он , что он , что он , что он , что он , что он , что он , что он , что он , что он , что он , что он , что он , что он , что он , что он , что он , что он , что он , что он , что он , что он , что он , что он , что он , что он , что он , что он , что он , что он , что он , что он\n",
            "Epoch 33/50\n",
            "Current loss T = 0.36975495852865614\n",
            "Current loss V = 1.1890462631242231\n",
            "Я застал его в саду. Он осматривал яблони, обнаженные дыханием осени, и с помощию старого садовника  outchitel , что я и , что я и , что я и , что я и , что я и , что я и , что я и , что я и , что я и , что я и , что я и , что я и , что я и , что я и , что я и , что я и , что я и , что я и , что я и , что я и , что я и , что я и , что я и , что я и , что я\n",
            "Epoch 34/50\n",
            "Current loss T = 0.354104090238678\n",
            "Current loss V = 1.2115310985125132\n",
            "Я застал его в саду. Он осматривал яблони, обнаженные дыханием осени, и с помощию старого садовника  outchitel , – сказала она встала и политический деятель , – сказала она встала и политический деятель , – сказала она встала и политический деятель , – сказала она встала и политический деятель , – сказала она встала и политический деятель , – сказала она встала и политический деятель , – сказала она встала и политический деятель , – сказала она встала и политический деятель , – сказала она встала и политический деятель , – сказала она встала и политический деятель , – сказала она встала и политический деятель , – сказала она встала и политический деятель , – сказала\n",
            "Epoch 35/50\n",
            "Current loss T = 0.3364164581572687\n",
            "Current loss V = 1.3510495024221438\n",
            "Я застал его в саду. Он осматривал яблони, обнаженные дыханием осени, и с помощию старого садовника  согласились в крытую аллею , – сказала она встала и марья ивановна , – сказала она встала и марья ивановна , – сказала она встала и марья ивановна , – сказала она встала и марья ивановна , – сказала она встала и марья ивановна , – сказала она встала и марья ивановна , – сказала она встала и марья ивановна , – сказала она встала и марья ивановна , – сказала она встала и марья ивановна , – сказала она встала и марья ивановна , – сказала она встала и марья ивановна , – сказала она встала и марья ивановна\n",
            "Epoch 36/50\n",
            "Current loss T = 0.32065501491128057\n",
            "Current loss V = 1.3456294827482052\n",
            "Я застал его в саду. Он осматривал яблони, обнаженные дыханием осени, и с помощию старого садовника  неизъяснимую . – сказала она встала и марья ивановна , – сказала она встала и марья ивановна , – сказала она встала и марья ивановна , – сказала она встала и марья ивановна , – сказала она встала и марья ивановна , – сказала она встала и марья ивановна , – сказала она встала и марья ивановна , – сказала она встала и марья ивановна , – сказала она встала и марья ивановна , – сказала она встала и марья ивановна , – сказала она встала и марья ивановна , – сказала она встала и марья ивановна , – сказала\n",
            "Epoch 37/50\n",
            "Current loss T = 0.30631887447088957\n",
            "Current loss V = 1.3530042845806158\n",
            "Я застал его в саду. Он осматривал яблони, обнаженные дыханием осени, и с помощию старого садовника  неизъяснимую . – сказала она встала , – сказала она встала , – сказала она встала , – сказала она встала , – сказала она встала , – сказала она встала , – сказала она встала , – сказала она встала , – сказала она встала , – сказала она встала , – сказала она встала , – сказала она встала , – сказала она встала , – сказала она встала , – сказала она встала , – сказала она встала , – сказала она встала , – сказала она встала , – сказала она встала , – сказала она\n",
            "Epoch 38/50\n",
            "Current loss T = 0.29576164119046283\n",
            "Current loss V = 1.2862812704532534\n",
            "Я застал его в саду. Он осматривал яблони, обнаженные дыханием осени, и с помощию старого садовника  неизъяснимую . – сказала она встала и почтительно от начала октября всячески губить отвечал я надеюсь , – сказала она встала и почтительно от начала октября всячески губить отвечал я надеюсь , – сказала она встала и почтительно от начала октября всячески губить отвечал я надеюсь , – сказала она встала и почтительно от начала октября всячески губить отвечал я надеюсь , – сказала она встала и почтительно от начала октября всячески губить отвечал я надеюсь , – сказала она встала и почтительно от начала октября всячески губить отвечал я надеюсь , – сказала она встала и почтительно от начала\n",
            "Epoch 39/50\n",
            "Current loss T = 0.28465610811369374\n",
            "Current loss V = 1.2997630585513607\n",
            "Я застал его в саду. Он осматривал яблони, обнаженные дыханием осени, и с помощию старого садовника  бережно он с холодным видом внимательным и марья ивановна , – сказала она встала и марья ивановна , – сказала она встала и марья ивановна , – сказала она встала и марья ивановна , – сказала она встала и марья ивановна , – сказала она встала и марья ивановна , – сказала она встала и марья ивановна , – сказала она встала и марья ивановна , – сказала она встала и марья ивановна , – сказала она встала и марья ивановна , – сказала она встала и марья ивановна , – сказала она встала и марья ивановна , – сказала\n",
            "Epoch 40/50\n",
            "Current loss T = 0.27275528770510676\n",
            "Current loss V = 1.350844528932997\n",
            "Я застал его в саду. Он осматривал яблони, обнаженные дыханием осени, и с помощию старого садовника  неизъяснимую . – сказала она встала и почтительно пропустили марья ивановна , – сказала она встала и почтительно пропустили марья ивановна , – сказала она встала и почтительно пропустили марья ивановна , – сказала она встала и почтительно пропустили марья ивановна , – сказала она встала и почтительно пропустили марья ивановна , – сказала она встала и почтительно пропустили марья ивановна , – сказала она встала и почтительно пропустили марья ивановна , – сказала она встала и почтительно пропустили марья ивановна , – сказала она встала и почтительно пропустили марья ивановна , – сказала она встала и почтительно пропустили марья\n",
            "Epoch 41/50\n",
            "Current loss T = 0.263497684201276\n",
            "Current loss V = 1.3444648109300918\n",
            "Я застал его в саду. Он осматривал яблони, обнаженные дыханием осени, и с помощию старого садовника  неизъяснимую . – сказала она встала и почтительно ее переменилось , – сказала она встала и почтительно ее переменилось , – сказала она встала и почтительно ее переменилось , – сказала она встала и почтительно ее переменилось , – сказала она встала и почтительно ее переменилось , – сказала она встала и почтительно ее переменилось , – сказала она встала и почтительно ее переменилось , – сказала она встала и почтительно ее переменилось , – сказала она встала и почтительно ее переменилось , – сказала она встала и почтительно ее переменилось , – сказала она встала и почтительно ее переменилось\n",
            "Epoch 42/50\n",
            "Current loss T = 0.2527774687319457\n",
            "Current loss V = 1.3486596633394894\n",
            "Я застал его в саду. Он осматривал яблони, обнаженные дыханием осени, и с помощию старого садовника  бережно я встала и марья ивановна , – сказала она встала и марья ивановна , – сказала она встала и марья ивановна , – сказала она встала и марья ивановна , – сказала она встала и марья ивановна , – сказала она встала и марья ивановна , – сказала она встала и марья ивановна , – сказала она встала и марья ивановна , – сказала она встала и марья ивановна , – сказала она встала и марья ивановна , – сказала она встала и марья ивановна , – сказала она встала и марья ивановна , – сказала она встала и\n",
            "Epoch 43/50\n",
            "Current loss T = 0.24202600741540795\n",
            "Current loss V = 1.2989430631057837\n",
            "Я застал его в саду. Он осматривал яблони, обнаженные дыханием осени, и с помощию старого садовника  бережно ты , что я в россии при петре i . – отвечал я в россии при петре i . – отвечал я в россии при петре i . – отвечал я в россии при петре i . – отвечал я в россии при петре i . – отвечал я в россии при петре i . – отвечал я в россии при петре i . – отвечал я в россии при петре i . – отвечал я в россии при петре i . – отвечал я в россии при петре i . – отвечал я в россии при петре i\n",
            "Epoch 44/50\n",
            "Current loss T = 0.23319951073593786\n",
            "Current loss V = 1.2431710751827907\n",
            "Я застал его в саду. Он осматривал яблони, обнаженные дыханием осени, и с помощию старого садовника  сперва за царских вельмож . – сказала она встала и почтительно - гвардия – сказала она встала и почтительно - гвардия – сказала она встала и почтительно - гвардия – сказала она встала и почтительно - гвардия – сказала она встала и почтительно - гвардия – сказала она встала и почтительно - гвардия – сказала она встала и почтительно - гвардия – сказала она встала и почтительно - гвардия – сказала она встала и почтительно - гвардия – сказала она встала и почтительно - гвардия – сказала она встала и почтительно - гвардия – сказала она встала и почтительно -\n",
            "Epoch 45/50\n",
            "Current loss T = 0.22625239736291472\n",
            "Current loss V = 1.2371334055321173\n",
            "Я застал его в саду. Он осматривал яблони, обнаженные дыханием осени, и с помощию старого садовника  рассолу о благополучном конце замышленного дела – сказала она встала и почтительно ее беспамятством , – сказала она встала и почтительно ее беспамятством , – сказала она встала и почтительно ее беспамятством , – сказала она встала и почтительно ее беспамятством , – сказала она встала и почтительно ее беспамятством , – сказала она встала и почтительно ее беспамятством , – сказала она встала и почтительно ее беспамятством , – сказала она встала и почтительно ее беспамятством , – сказала она встала и почтительно ее беспамятством , – сказала она встала и почтительно ее беспамятством , – сказала она встала\n",
            "Epoch 46/50\n",
            "Current loss T = 0.2199379639523859\n",
            "Current loss V = 1.2794981242937815\n",
            "Я застал его в саду. Он осматривал яблони, обнаженные дыханием осени, и с помощию старого садовника  неизъяснимую . – сказала она встала и почтительно ее беспамятством , что я , что я , что я , что я , что я , что я , что я , что я , что я , что я , что я , что я , что я , что я , что я , что я , что я , что я , что я , что я , что я , что я , что я , что я , что я , что я , что я , что я , что я , что я\n",
            "Epoch 47/50\n",
            "Current loss T = 0.21573268556296155\n",
            "Current loss V = 1.3089476874190475\n",
            "Я застал его в саду. Он осматривал яблони, обнаженные дыханием осени, и с помощию старого садовника  бережно не беспокойтесь о благополучном конце замышленного дела и почтительно ее движениями , что я , что я , что я , что я , что я , что я , что я , что я , что я , что я , что я , что я , что я , что я , что я , что я , что я , что я , что я , что я , что я , что я , что я , что я , что я , что я , что я , что я , что я ,\n",
            "Epoch 48/50\n",
            "Current loss T = 0.2102060318077067\n",
            "Current loss V = 1.3853215349812966\n",
            "Я застал его в саду. Он осматривал яблони, обнаженные дыханием осени, и с помощию старого садовника  эпиграф о благополучном конце 1774 года получает мне , что я надеюсь , что я надеюсь , что я надеюсь , что я надеюсь , что я надеюсь , что я надеюсь , что я надеюсь , что я надеюсь , что я надеюсь , что я надеюсь , что я надеюсь , что я надеюсь , что я надеюсь , что я надеюсь , что я надеюсь , что я надеюсь , что я надеюсь , что я надеюсь , что я надеюсь , что я надеюсь , что я надеюсь , что я надеюсь , что я надеюсь\n",
            "Epoch 49/50\n",
            "Current loss T = 0.20410814226881877\n",
            "Current loss V = 1.339593129035354\n",
            "Я застал его в саду. Он осматривал яблони, обнаженные дыханием осени, и с помощию старого садовника  неизъяснимую . – сказала она встала и почтительно пропустили что я не беспокойтесь о том , что я не беспокойтесь о том , что я не беспокойтесь о том , что я не беспокойтесь о том , что я не беспокойтесь о том , что я не беспокойтесь о том , что я не беспокойтесь о том , что я не беспокойтесь о том , что я не беспокойтесь о том , что я не беспокойтесь о том , что я не беспокойтесь о том , что я не беспокойтесь о том , что я не беспокойтесь о том ,\n"
          ]
        }
      ],
      "source": [
        "train(net,train_dataset,train_dataset,50,optimizer, scheduler, get_batch_slov, generate_slov, slov = True)"
      ]
    },
    {
      "cell_type": "code",
      "execution_count": null,
      "metadata": {
        "id": "4wE-aPBnvBtd",
        "colab": {
          "base_uri": "https://localhost:8080/"
        },
        "outputId": "264650cf-cd98-4081-ca4f-5ba77f673414"
      },
      "outputs": [
        {
          "output_type": "stream",
          "name": "stdout",
          "text": [
            "Результат\n",
            "Я застал его в саду. Он осматривал яблони, обнаженные дыханием осени, но я не беспокойтесь о том , что я не беспокойтесь о том , что я не беспокойтесь о том , что я не беспокойтесь о том , что я не беспокойтесь о том , что я не беспокойтесь о том , что я не беспокойтесь о том , что я не беспокойтесь о том , что я не беспокойтесь о том , что я не беспокойтесь о том , что я не беспокойтесь о том , что я не беспокойтесь о том , что я не беспокойтесь о том , что я не беспокойтесь о том , что я не беспокойтесь о том , что я не беспокойтесь о том , что я не беспокойтесь о том , что я не беспокойтесь о том , что я не беспокойтесь о том , что я не беспокойтесь о том , что я не беспокойтесь о том , что я не беспокойтесь о том , что я не беспокойтесь о том , что я не беспокойтесь о том , что я не беспокойтесь о том , что я не беспокойтесь о том , что я не беспокойтесь о том , что я не беспокойтесь о том , что я не беспокойтесь о том , что я не беспокойтесь о том , что я не беспокойтесь о том , что я не беспокойтесь о том , что я не беспокойтесь о том , что я не беспокойтесь о том , что я не беспокойтесь о том , что я не беспокойтесь о том , что я не беспокойтесь о том , что я не беспокойтесь о том , что я не беспокойтесь о том , что я не беспокойтесь о том , что я не беспокойтесь о том , что я не беспокойтесь о том , что я не беспокойтесь о том\n",
            "\n"
          ]
        }
      ],
      "source": [
        "print(f\"Результат\\n{generate_slov(net,size=300,start=test_str_slov)}\\n\")"
      ]
    },
    {
      "cell_type": "markdown",
      "metadata": {
        "id": "Kmn8fgWPvEuU"
      },
      "source": [
        "## Двухноправленная сеть LSTM"
      ]
    },
    {
      "cell_type": "code",
      "execution_count": null,
      "metadata": {
        "id": "WSBFFA2EvBvh"
      },
      "outputs": [],
      "source": [
        "class LSTMBidirectionalGenerator(torch.nn.Module):\n",
        "    def __init__(self, vocab_size, hidden_dim):\n",
        "        super().__init__()\n",
        "        self.vocab_size=vocab_size\n",
        "        self.rnn = torch.nn.LSTM(self.vocab_size,hidden_dim,batch_first=True,bidirectional=True,num_layers=1)\n",
        "        self.fc = torch.nn.Linear(hidden_dim*2, self.vocab_size)\n",
        "\n",
        "    def forward(self, x, s=None):\n",
        "        x = torch.nn.functional.one_hot(x,self.vocab_size).to(torch.float32)\n",
        "        x,s = self.rnn(x,s)\n",
        "        return self.fc(x)"
      ]
    },
    {
      "cell_type": "markdown",
      "metadata": {
        "id": "n-v_LPX-vJwF"
      },
      "source": [
        "## Обучение двухноправленной, посимвольной LSTM\n",
        "\n",
        "\n"
      ]
    },
    {
      "cell_type": "code",
      "execution_count": null,
      "metadata": {
        "id": "3Ie__fhAvBxr"
      },
      "outputs": [],
      "source": [
        "vocab_size = len(vocab)\n",
        "net=LSTMBidirectionalGenerator(vocab_size,64).to(device)\n",
        "optimizer = torch.optim.Adam(net.parameters(),0.01)\n",
        "scheduler=lr_scheduler.ReduceLROnPlateau(optimizer, 'min',factor=0.9,patience=50)"
      ]
    },
    {
      "cell_type": "code",
      "execution_count": null,
      "metadata": {
        "id": "xmvq6GpRwaAY",
        "colab": {
          "base_uri": "https://localhost:8080/"
        },
        "outputId": "8a6ce44f-a390-4ab9-b6ab-9d9482bc5dbc"
      },
      "outputs": [
        {
          "output_type": "stream",
          "name": "stdout",
          "text": [
            "Epoch 0/50\n",
            "Current loss T = 0.17067089648329997\n",
            "Current loss V = 0.014678502761599448\n",
            "Я застал его в саду. Он осматривал яблони, обнаженные дыханием осени, и с помощию старого садовника ностостостостостостостостостостостостостостостостостостостостостостостостостостостостостостостостост\n",
            "Epoch 1/50\n",
            "Current loss T = 0.009166252548672125\n",
            "Current loss V = 0.00742504831407689\n",
            "Я застал его в саду. Он осматривал яблони, обнаженные дыханием осени, и с помощию старого садовника во о о о о о о о о о о о о о о о о о о о о о о о о о о о о о о о о о о о о о о о о о о о о о о о о о\n",
            "Epoch 2/50\n",
            "Current loss T = 0.006487910309596709\n",
            "Current loss V = 0.005936314117977278\n",
            "Я застал его в саду. Он осматривал яблони, обнаженные дыханием осени, и с помощию старого садовника во о о о о о о о о о о о о о о о о о о о о о о о о о о о о о о о о о о о о о о о о о о о о о о о о о\n",
            "Epoch 3/50\n",
            "Current loss T = 0.005738648950952936\n",
            "Current loss V = 0.005551447443714416\n",
            "Я застал его в саду. Он осматривал яблони, обнаженные дыханием осени, и с помощию старого садовника во о о о о о о о о о о о о о о о о о о о о о о о о о о о о о о о о о о о о о о о о о о о о о о о о о\n",
            "Epoch 4/50\n",
            "Current loss T = 0.005415251688310155\n",
            "Current loss V = 0.00528757443896973\n",
            "Я застал его в саду. Он осматривал яблони, обнаженные дыханием осени, и с помощию старого садовника о о о о о о о о о о о о о о о о о о о о о о о о о о о о о о о о о о о о о о о о о о о о о о о о о о \n",
            "Epoch 5/50\n",
            "Current loss T = 0.005181845591135054\n",
            "Current loss V = 0.0050958041993162785\n",
            "Я застал его в саду. Он осматривал яблони, обнаженные дыханием осени, и с помощию старого садовника о о о о о о о о о о о о о о о о о о о о о о о о о о о о о о о о о о о о о о о о о о о о о о о о о о \n",
            "Epoch 6/50\n",
            "Current loss T = 0.004993120885898804\n",
            "Current loss V = 0.0049567037594487875\n",
            "Я застал его в саду. Он осматривал яблони, обнаженные дыханием осени, и с помощию старого садовника остостостостостостостостостостостостостостостостостостостостостостостостостостостостостостостостосто\n",
            "Epoch 7/50\n",
            "Current loss T = 0.004830974674372522\n",
            "Current loss V = 0.004821205908130552\n",
            "Я застал его в саду. Он осматривал яблони, обнаженные дыханием осени, и с помощию старого садовника остостостостостостостостостостостостостостостостостостостостостостостостостостостостостостостостосто\n",
            "Epoch 8/50\n",
            "Current loss T = 0.004690678337660224\n",
            "Current loss V = 0.0047309109956856716\n",
            "Я застал его в саду. Он осматривал яблони, обнаженные дыханием осени, и с помощию старого садовника и остостостостостостостостостостостостостостостостостостостостостостостостостостостостостостостостос\n",
            "Epoch 9/50\n",
            "Current loss T = 0.004569083225686808\n",
            "Current loss V = 0.004608416353794956\n",
            "Я застал его в саду. Он осматривал яблони, обнаженные дыханием осени, и с помощию старого садовника и остостостостостостостостостостостостостостостостостостостостостостостостостостостостостостостостос\n",
            "Epoch 10/50\n",
            "Current loss T = 0.0044673039039873795\n",
            "Current loss V = 0.004550622059305005\n",
            "Я застал его в саду. Он осматривал яблони, обнаженные дыханием осени, и с помощию старого садовника и оскоскоскоскоскоскоскоскоскоскоскоскоскоскоскоскоскоскоскоскоскоскоскоскоскоскоскоскоскоскоскоскос\n",
            "Epoch 11/50\n",
            "Current loss T = 0.0043808433997050466\n",
            "Current loss V = 0.004484800498896941\n",
            "Я застал его в саду. Он осматривал яблони, обнаженные дыханием осени, и с помощию старого садовника и оскоскоскоскоскоскоскоскоскоскоскоскоскоскоскоскоскоскоскоскоскоскоскоскоскоскоскоскоскоскоскоскос\n",
            "Epoch 12/50\n",
            "Current loss T = 0.004299528294280675\n",
            "Current loss V = 0.004379538630412237\n",
            "Я застал его в саду. Он осматривал яблони, обнаженные дыханием осени, и с помощию старого садовника и оскоскоскоскоскоскоскоскоскоскоскоскоскоскоскоскоскоскоскоскоскоскоскоскоскоскоскоскоскоскоскоскос\n",
            "Epoch 13/50\n",
            "Current loss T = 0.0042310751269798025\n",
            "Current loss V = 0.004488748440053314\n",
            "Я застал его в саду. Он осматривал яблони, обнаженные дыханием осени, и с помощию старого садовника воскоскоскоскоскоскоскоскоскоскоскоскоскоскоскоскоскоскоскоскоскоскоскоскоскоскоскоскоскоскоскоскоск\n",
            "Epoch 14/50\n",
            "Current loss T = 0.006694180829039363\n",
            "Current loss V = 0.004815566286901935\n",
            "Я застал его в саду. Он осматривал яблони, обнаженные дыханием осени, и с помощию старого садовника и ва ва ва ва ва ва ва ва ва ва ва ва ва ва ва ва ва ва ва ва ва ва ва ва ва ва ва ва ва ва ва ва ва\n",
            "Epoch 15/50\n",
            "Current loss T = 0.004599619890680654\n",
            "Current loss V = 0.004384220962156751\n",
            "Я застал его в саду. Он осматривал яблони, обнаженные дыханием осени, и с помощию старого садовника и ва ва ва ва ва ва ва ва ва ва ва ва ва ва ва ва ва ва ва ва ва ва ва ва ва ва ва ва ва ва ва ва ва\n",
            "Epoch 16/50\n",
            "Current loss T = 0.004321491852327174\n",
            "Current loss V = 0.004195318798018569\n",
            "Я застал его в саду. Он осматривал яблони, обнаженные дыханием осени, и с помощию старого садовника и ва ва ва ва ва ва ва ва ва ва ва ва ва ва ва ва ва ва ва ва ва ва ва ва ва ва ва ва ва ва ва ва ва\n",
            "Epoch 17/50\n",
            "Current loss T = 0.004168845007305143\n",
            "Current loss V = 0.004108059897794397\n",
            "Я застал его в саду. Он осматривал яблони, обнаженные дыханием осени, и с помощию старого садовника и ва ва ва ва ва ва ва ва ва ва ва ва ва ва ва ва ва ва ва ва ва ва ва ва ва ва ва ва ва ва ва ва ва\n",
            "Epoch 18/50\n",
            "Current loss T = 0.004088318908297633\n",
            "Current loss V = 0.004030725642486039\n",
            "Я застал его в саду. Он осматривал яблони, обнаженные дыханием осени, и с помощию старого садовника и ва ва ва ва ва ва ва ва ва ва ва ва ва ва ва ва ва ва ва ва ва ва ва ва ва ва ва ва ва ва ва ва ва\n",
            "Epoch 19/50\n",
            "Current loss T = 0.0040076258681454435\n",
            "Current loss V = 0.003975696791213023\n",
            "Я застал его в саду. Он осматривал яблони, обнаженные дыханием осени, и с помощию старого садовника ва ва ва ва ва ва ва ва ва ва ва ва ва ва ва ва ва ва ва ва ва ва ва ва ва ва ва ва ва ва ва ва ва в\n",
            "Epoch 20/50\n",
            "Current loss T = 0.0039665176848322995\n",
            "Current loss V = 0.00395500108647907\n",
            "Я застал его в саду. Он осматривал яблони, обнаженные дыханием осени, и с помощию старого садовника оскоскоскоскоскоскоскоскоскоскоскоскоскоскоскоскоскоскоскоскоскоскоскоскоскоскоскоскоскоскоскоскоско\n",
            "Epoch 21/50\n",
            "Current loss T = 0.003949560736293426\n",
            "Current loss V = 0.003965749087279897\n",
            "Я застал его в саду. Он осматривал яблони, обнаженные дыханием осени, и с помощию старого садовника о ва ва ва ва ва ва ва ва ва ва ва ва ва ва ва ва ва ва ва ва ва ва ва ва ва ва ва ва ва ва ва ва ва\n",
            "Epoch 22/50\n",
            "Current loss T = 0.003893605229415436\n",
            "Current loss V = 0.0038919547403090727\n",
            "Я застал его в саду. Он осматривал яблони, обнаженные дыханием осени, и с помощию старого садовника и ва ва ва ва ва ва ва ва ва ва ва ва ва ва ва ва ва ва ва ва ва ва ва ва ва ва ва ва ва ва ва ва ва\n",
            "Epoch 23/50\n",
            "Current loss T = 0.0038655972352612195\n",
            "Current loss V = 0.003934825198443791\n",
            "Я застал его в саду. Он осматривал яблони, обнаженные дыханием осени, и с помощию старого садовника и ва ва ва ва ва ва ва ва ва ва ва ва ва ва ва ва ва ва ва ва ва ва ва ва ва ва ва ва ва ва ва ва ва\n",
            "Epoch 24/50\n",
            "Current loss T = 0.0038410187670059066\n",
            "Current loss V = 0.003900537907742677\n",
            "Я застал его в саду. Он осматривал яблони, обнаженные дыханием осени, и с помощию старого садовника и ва ва ва ва ва ва ва ва ва ва ва ва ва ва ва ва ва ва ва ва ва ва ва ва ва ва ва ва ва ва ва ва ва\n",
            "Epoch 25/50\n",
            "Current loss T = 0.0037869997676524864\n",
            "Current loss V = 0.0038371945013971746\n",
            "Я застал его в саду. Он осматривал яблони, обнаженные дыханием осени, и с помощию старого садовника и ва ва ва ва ва ва ва ва ва ва ва ва ва ва ва ва ва ва ва ва ва ва ва ва ва ва ва ва ва ва ва ва ва\n",
            "Epoch 26/50\n",
            "Current loss T = 0.0037620983389101354\n",
            "Current loss V = 0.0038352552214050077\n",
            "Я застал его в саду. Он осматривал яблони, обнаженные дыханием осени, и с помощию старого садовника и ва ва ва ва ва ва ва ва ва ва ва ва ва ва ва ва ва ва ва ва ва ва ва ва ва ва ва ва ва ва ва ва ва\n",
            "Epoch 27/50\n",
            "Current loss T = 0.0037884088172808056\n",
            "Current loss V = 0.0037688793878538768\n",
            "Я застал его в саду. Он осматривал яблони, обнаженные дыханием осени, и с помощию старого садовника и ве ве ве ве ве ве ве ве ве ве ве ве ве ве ве ве ве ве ве ве ве ве ве ве ве ве ве ве ве ве ве ве ве\n",
            "Epoch 28/50\n",
            "Current loss T = 0.0037070015646718645\n",
            "Current loss V = 0.0037469813881519562\n",
            "Я застал его в саду. Он осматривал яблони, обнаженные дыханием осени, и с помощию старого садовника и ве ве ве ве ве ве ве ве ве ве ве ве ве ве ве ве ве ве ве ве ве ве ве ве ве ве ве ве ве ве ве ве ве\n",
            "Epoch 29/50\n",
            "Current loss T = 0.003680171220702841\n",
            "Current loss V = 0.0036920154572628134\n",
            "Я застал его в саду. Он осматривал яблони, обнаженные дыханием осени, и с помощию старого садовника и ве ве ве ве ве ве ве ве ве ве ве ве ве ве ве ве ве ве ве ве ве ве ве ве ве ве ве ве ве ве ве ве ве\n",
            "Epoch 30/50\n",
            "Current loss T = 0.0036454260681476865\n",
            "Current loss V = 0.0036952738700091613\n",
            "Я застал его в саду. Он осматривал яблони, обнаженные дыханием осени, и с помощию старого садовника и ве ве ве ве ве ве ве ве ве ве ве ве ве ве ве ве ве ве ве ве ве ве ве ве ве ве ве ве ве ве ве ве ве\n",
            "Epoch 31/50\n",
            "Current loss T = 0.0036324117878590383\n",
            "Current loss V = 0.003691636829866151\n",
            "Я застал его в саду. Он осматривал яблони, обнаженные дыханием осени, и с помощию старого садовника и ва ва ва ва ва ва ва ва ва ва ва ва ва ва ва ва ва ва ва ва ва ва ва ва ва ва ва ва ва ва ва ва ва\n",
            "Epoch 32/50\n",
            "Current loss T = 0.0037055768642620694\n",
            "Current loss V = 0.0037041597336668077\n",
            "Я застал его в саду. Он осматривал яблони, обнаженные дыханием осени, и с помощию старого садовника и ва ва ва ва ва ва ва ва ва ва ва ва ва ва ва ва ва ва ва ва ва ва ва ва ва ва ва ва ва ва ва ва ва\n",
            "Epoch 33/50\n",
            "Current loss T = 0.00364117180498061\n",
            "Current loss V = 0.0036438484611944085\n",
            "Я застал его в саду. Он осматривал яблони, обнаженные дыханием осени, и с помощию старого садовника и ва ва ва ва ва ва ва ва ва ва ва ва ва ва ва ва ва ва ва ва ва ва ва ва ва ва ва ва ва ва ва ва ва\n",
            "Epoch 34/50\n",
            "Current loss T = 0.003583169789570027\n",
            "Current loss V = 0.0035678935585950443\n",
            "Я застал его в саду. Он осматривал яблони, обнаженные дыханием осени, и с помощию старого садовника и ва ва ва ва ва ва ва ва ва ва ва ва ва ва ва ва ва ва ва ва ва ва ва ва ва ва ва ва ва ва ва ва ва\n",
            "Epoch 35/50\n",
            "Current loss T = 0.00609267871173493\n",
            "Current loss V = 0.005476618888326459\n",
            "Я застал его в саду. Он осматривал яблони, обнаженные дыханием осени, и с помощию старого садовника ва ва ва ва ва ва ва ва ва ва ва ва ва ва ва ва ва ва ва ва ва ва ва ва ва ва ва ва ва ва ва ва ва в\n",
            "Epoch 36/50\n",
            "Current loss T = 0.004858251926929665\n",
            "Current loss V = 0.004392953119702167\n",
            "Я застал его в саду. Он осматривал яблони, обнаженные дыханием осени, и с помощию старого садовника ва ва ва ва ва ва ва ва ва ва ва ва ва ва ва ва ва ва ва ва ва ва ва ва ва ва ва ва ва ва ва ва ва в\n",
            "Epoch 37/50\n",
            "Current loss T = 0.004276183652502761\n",
            "Current loss V = 0.004032741599141511\n",
            "Я застал его в саду. Он осматривал яблони, обнаженные дыханием осени, и с помощию старого садовника ва ва ва ва ва ва ва ва ва ва ва ва ва ва ва ва ва ва ва ва ва ва ва ва ва ва ва ва ва ва ва ва ва в\n",
            "Epoch 38/50\n",
            "Current loss T = 0.003981724904791394\n",
            "Current loss V = 0.003795112637899447\n",
            "Я застал его в саду. Он осматривал яблони, обнаженные дыханием осени, и с помощию старого садовника и ва ва ва ва ва ва ва ва ва ва ва ва ва ва ва ва ва ва ва ва ва ва ва ва ва ва ва ва ва ва ва ва ва\n",
            "Epoch 39/50\n",
            "Current loss T = 0.003790524490607634\n",
            "Current loss V = 0.00365566944353165\n",
            "Я застал его в саду. Он осматривал яблони, обнаженные дыханием осени, и с помощию старого садовника и ва ва ва ва ва ва ва ва ва ва ва ва ва ва ва ва ва ва ва ва ва ва ва ва ва ва ва ва ва ва ва ва ва\n",
            "Epoch 40/50\n",
            "Current loss T = 0.003675746672596942\n",
            "Current loss V = 0.0035781932976107354\n",
            "Я застал его в саду. Он осматривал яблони, обнаженные дыханием осени, и с помощию старого садовника и ва ва ва ва ва ва ва ва ва ва ва ва ва ва ва ва ва ва ва ва ва ва ва ва ва ва ва ва ва ва ва ва ва\n",
            "Epoch 41/50\n",
            "Current loss T = 0.0036045083052977955\n",
            "Current loss V = 0.0035932937568538144\n",
            "Я застал его в саду. Он осматривал яблони, обнаженные дыханием осени, и с помощию старого садовника и ова ова ова ова ова ова ова ова ова ова ова ова ова ова ова ова ова ова ова ова ова ова ова ова ов\n",
            "Epoch 42/50\n",
            "Current loss T = 0.0035996764509200314\n",
            "Current loss V = 0.003538696255025177\n",
            "Я застал его в саду. Он осматривал яблони, обнаженные дыханием осени, и с помощию старого садовника и ова ова ова ова ова ова ова ова ова ова ова ова ова ова ова ова ова ова ова ова ова ова ова ова ов\n",
            "Epoch 43/50\n",
            "Current loss T = 0.003570727366709721\n",
            "Current loss V = 0.003499313303387959\n",
            "Я застал его в саду. Он осматривал яблони, обнаженные дыханием осени, и с помощию старого садовника и ова ова ова ова ова ова ова ова ова ова ова ова ова ова ова ова ова ова ова ова ова ова ова ова ов\n",
            "Epoch 44/50\n",
            "Current loss T = 0.003541350386054087\n",
            "Current loss V = 0.0034850858627013055\n",
            "Я застал его в саду. Он осматривал яблони, обнаженные дыханием осени, и с помощию старого садовника и ововововововововововововововововововововововововововововововововововововововововововововововововов\n",
            "Epoch 45/50\n",
            "Current loss T = 0.00351922907751171\n",
            "Current loss V = 0.003513430927718595\n",
            "Я застал его в саду. Он осматривал яблони, обнаженные дыханием осени, и с помощию старого садовника и ва ва ва ва ва ва ва ва ва ва ва ва ва ва ва ва ва ва ва ва ва ва ва ва ва ва ва ва ва ва ва ва ва\n",
            "Epoch 46/50\n",
            "Current loss T = 0.003513171239483363\n",
            "Current loss V = 0.0034884322487889695\n",
            "Я застал его в саду. Он осматривал яблони, обнаженные дыханием осени, и с помощию старого садовника и ва ва ва ва ва ва ва ва ва ва ва ва ва ва ва ва ва ва ва ва ва ва ва ва ва ва ва ва ва ва ва ва ва\n",
            "Epoch 47/50\n",
            "Current loss T = 0.00350003036369385\n",
            "Current loss V = 0.003518378578240748\n",
            "Я застал его в саду. Он осматривал яблони, обнаженные дыханием осени, и с помощию старого садовника и овамовамовамовамовамовамовамовамовамовамовамовамовамовамовамовамовамовамовамовамовамовамовамовамов\n",
            "Epoch 48/50\n",
            "Current loss T = 0.0035132345805617957\n",
            "Current loss V = 0.0035002797847007495\n",
            "Я застал его в саду. Он осматривал яблони, обнаженные дыханием осени, и с помощию старого садовника и вовововововововововововововововововововововововововововововововововововововововововововововововово\n",
            "Epoch 49/50\n",
            "Current loss T = 0.0034845429527031063\n",
            "Current loss V = 0.0034738587259657383\n",
            "Я застал его в саду. Он осматривал яблони, обнаженные дыханием осени, и с помощию старого садовника и ова ова ова ова ова ова ова ова ова ова ова ова ова ова ова ова ова ова ова ова ова ова ова ова ов\n"
          ]
        }
      ],
      "source": [
        "train(net,train_dataset,train_dataset,50,optimizer, scheduler, get_batch, generate)"
      ]
    },
    {
      "cell_type": "markdown",
      "source": [
        "## Обучение двухноправленной, пословной LSTM"
      ],
      "metadata": {
        "id": "KHj4T181yWG5"
      }
    },
    {
      "cell_type": "code",
      "source": [
        "nchars = 10\n",
        "vocab_size = len(vocab_slov)"
      ],
      "metadata": {
        "id": "_NZOAyZw0G8v"
      },
      "execution_count": null,
      "outputs": []
    },
    {
      "cell_type": "code",
      "execution_count": null,
      "metadata": {
        "id": "fx4Q3r4nwiev"
      },
      "outputs": [],
      "source": [
        "net=LSTMBidirectionalGenerator(vocab_size,64,).to(device)\n",
        "optimizer = torch.optim.Adam(net.parameters(),0.01)\n",
        "scheduler=lr_scheduler.ReduceLROnPlateau(optimizer, 'min',factor=0.9,patience=50)"
      ]
    },
    {
      "cell_type": "code",
      "source": [
        "train(net,train_dataset,train_dataset,50,optimizer, scheduler, get_batch_slov, generate_slov, slov = True)"
      ],
      "metadata": {
        "colab": {
          "base_uri": "https://localhost:8080/"
        },
        "id": "H5Tg7fcuyYLE",
        "outputId": "ef097f88-0c34-4c6d-99e1-327dcc62d2bd"
      },
      "execution_count": null,
      "outputs": [
        {
          "output_type": "stream",
          "name": "stdout",
          "text": [
            "Epoch 0/50\n",
            "Current loss T = 1.3323787393065187\n",
            "Current loss V = 0.9563622843843322\n",
            "Я застал его в саду. Он осматривал яблони, обнаженные дыханием осени, и с помощию старого садовника  . – сказала и и и и и и и и и и и и и и и и и и и и и и и и и и и и и и и и и и и и и и и и и и и и и и и и и и и и и и и и и и и и и и и и и и и и и и и и и и и и и и и и и и и и и и и и и и и и и и и и и\n",
            "Epoch 1/50\n",
            "Current loss T = 0.7334807227189476\n",
            "Current loss V = 0.5786636256621228\n",
            "Я застал его в саду. Он осматривал яблони, обнаженные дыханием осени, и с помощию старого садовника  . – сказал он , что что что что что что что что что что что что что что что что что что что что что что что что что что что что что что что что что что что что что что что что что что что что что что что что что что что что что что что что что что что что что что что что что что что что что что что что что что что что что что что что что что что что что что что что что что что что что что что\n",
            "Epoch 2/50\n",
            "Current loss T = 0.4347219964875294\n",
            "Current loss V = 0.44095627640097124\n",
            "Я застал его в саду. Он осматривал яблони, обнаженные дыханием осени, и с помощию старого садовника  падежа множественного числа ( годы . я надеюсь , что примерная казнь должна была одарена скромностию и политический деятель , что примерная казнь должна была одарена скромностию и политический деятель , что примерная казнь должна была одарена скромностию и политический деятель , что примерная казнь должна была одарена скромностию и политический деятель , что примерная казнь должна была одарена скромностию и политический деятель , что примерная казнь должна была одарена скромностию и политический деятель , что примерная казнь должна была одарена скромностию и политический деятель , что примерная казнь должна была одарена скромностию и политический деятель , что примерная казнь\n",
            "Epoch 3/50\n",
            "Current loss T = 0.2359915376548563\n",
            "Current loss V = 0.285298503360602\n",
            "Я застал его в саду. Он осматривал яблони, обнаженные дыханием осени, и с помощию старого садовника  бережно их повышали в россии , что малейшие подробности врезались в россии , что малейшие подробности врезались в россии , что малейшие подробности врезались в россии , что малейшие подробности врезались в россии , что малейшие подробности врезались в россии , что малейшие подробности врезались в россии , что малейшие подробности врезались в россии , что малейшие подробности врезались в россии , что малейшие подробности врезались в россии , что малейшие подробности врезались в россии , что малейшие подробности врезались в россии , что малейшие подробности врезались в россии , что малейшие подробности врезались в россии , что малейшие подробности\n",
            "Epoch 4/50\n",
            "Current loss T = 0.12470864083382997\n",
            "Current loss V = 0.1602875438229357\n",
            "Я застал его в саду. Он осматривал яблони, обнаженные дыханием осени, и с помощию старого садовника  бережно их повышали в 1735–1739 годах . – сказал он . – сказал он . – сказал он . – сказал он . – сказал он . – сказал он . – сказал он . – сказал он . – сказал он . – сказал он . – сказал он . – сказал он . – сказал он . – сказал он . – сказал он . – сказал он . – сказал он . – сказал он . – сказал он . – сказал он . – сказал он . – сказал он . – сказал он . –\n",
            "Epoch 5/50\n",
            "Current loss T = 0.07784694906005317\n",
            "Current loss V = 0.09391749267223047\n",
            "Я застал его в саду. Он осматривал яблони, обнаженные дыханием осени, и с помощию старого садовника  бережно их . – сказал он . – сказал он . – сказал он . – сказал он . – сказал он . – сказал он . – сказал он . – сказал он . – сказал он . – сказал он . – сказал он . – сказал он . – сказал он . – сказал он . – сказал он . – сказал он . – сказал он . – сказал он . – сказал он . – сказал он . – сказал он . – сказал он . – сказал он . – сказал он . –\n",
            "Epoch 6/50\n",
            "Current loss T = 0.06303674441988806\n",
            "Current loss V = 0.08832246722519263\n",
            "Я застал его в саду. Он осматривал яблони, обнаженные дыханием осени, и с помощию старого садовника  бережно их повышали в 1735–1739 годах . – сказал он . – сказал он . – сказал он . – сказал он . – сказал он . – сказал он . – сказал он . – сказал он . – сказал он . – сказал он . – сказал он . – сказал он . – сказал он . – сказал он . – сказал он . – сказал он . – сказал он . – сказал он . – сказал он . – сказал он . – сказал он . – сказал он . – сказал он . –\n",
            "Epoch 7/50\n",
            "Current loss T = 0.056881710770015546\n",
            "Current loss V = 0.07637304418247302\n",
            "Я застал его в саду. Он осматривал яблони, обнаженные дыханием осени, и с помощию старого садовника  бережно их грозные лица , что с улыбкою «а ! – не мог оправдаться , что с улыбкою «а ! – не мог оправдаться , что с улыбкою «а ! – не мог оправдаться , что с улыбкою «а ! – не мог оправдаться , что с улыбкою «а ! – не мог оправдаться , что с улыбкою «а ! – не мог оправдаться , что с улыбкою «а ! – не мог оправдаться , что с улыбкою «а ! – не мог оправдаться , что с улыбкою «а ! – не мог оправдаться , что с улыбкою «а !\n",
            "Epoch 8/50\n",
            "Current loss T = 0.049363132866690994\n",
            "Current loss V = 0.08155210394630427\n",
            "Я застал его в саду. Он осматривал яблони, обнаженные дыханием осени, и с помощию старого садовника  бережно их грозные лица , что с видом . – сказал он был я не мог . – сказал он был я не мог . – сказал он был я не мог . – сказал он был я не мог . – сказал он был я не мог . – сказал он был я не мог . – сказал он был я не мог . – сказал он был я не мог . – сказал он был я не мог . – сказал он был я не мог . – сказал он был я не мог . – сказал он\n",
            "Epoch 9/50\n",
            "Current loss T = 0.04232985229149612\n",
            "Current loss V = 0.06705072620093848\n",
            "Я застал его в саду. Он осматривал яблони, обнаженные дыханием осени, и с помощию старого садовника  бережно их грозные лица , что не мог . я не мог . я не мог . я не мог . я не мог . я не мог . я не мог . я не мог . я не мог . я не мог . я не мог . я не мог . я не мог . я не мог . я не мог . я не мог . я не мог . я не мог . я не мог . я не мог . я не мог . я не мог . я не мог . я не мог\n",
            "Epoch 10/50\n",
            "Current loss T = 0.03653861910614986\n",
            "Current loss V = 0.06619509891921503\n",
            "Я застал его в саду. Он осматривал яблони, обнаженные дыханием осени, и с помощию старого садовника  бережно их грозные лица , что он был я мог оправдаться , что он был я мог оправдаться , что он был я мог оправдаться , что он был я мог оправдаться , что он был я мог оправдаться , что он был я мог оправдаться , что он был я мог оправдаться , что он был я мог оправдаться , что он был я мог оправдаться , что он был я мог оправдаться , что он был я мог оправдаться , что он был я мог оправдаться , что он был я мог оправдаться , что он был я\n",
            "Epoch 11/50\n",
            "Current loss T = 0.0326847682698097\n",
            "Current loss V = 0.062406130988771714\n",
            "Я застал его в саду. Он осматривал яблони, обнаженные дыханием осени, и с помощию старого садовника  бережно их грозные лица , что не мог оправдаться , что не мог оправдаться , что не мог оправдаться , что не мог оправдаться , что не мог оправдаться , что не мог оправдаться , что не мог оправдаться , что не мог оправдаться , что не мог оправдаться , что не мог оправдаться , что не мог оправдаться , что не мог оправдаться , что не мог оправдаться , что не мог оправдаться , что не мог оправдаться , что не мог оправдаться , что не мог оправдаться , что не мог оправдаться , что не мог оправдаться ,\n",
            "Epoch 12/50\n",
            "Current loss T = 0.03146093304642384\n",
            "Current loss V = 0.05991399683071896\n",
            "Я застал его в саду. Он осматривал яблони, обнаженные дыханием осени, и с помощию старого садовника  бережно их грозные лица , что не мог не мог не мог не мог не мог не мог не мог не мог не мог не мог не мог не мог не мог не мог не мог не мог не мог не мог не мог не мог не мог не мог не мог не мог не мог не мог не мог не мог не мог не мог не мог не мог не мог не мог не мог не мог не мог не мог не мог не мог не мог не мог не мог не мог не мог не мог не мог\n",
            "Epoch 13/50\n",
            "Current loss T = 0.05395688819289963\n",
            "Current loss V = 0.11071185947255324\n",
            "Я застал его в саду. Он осматривал яблони, обнаженные дыханием осени, и с помощию старого садовника  бережно их повышали в неизвестной даме невольно привлекало сердце и с улыбкою «а ! – сказала она вошла в неизвестной даме невольно привлекало сердце и с улыбкою «а ! – сказала она вошла в неизвестной даме невольно привлекало сердце и с улыбкою «а ! – сказала она вошла в неизвестной даме невольно привлекало сердце и с улыбкою «а ! – сказала она вошла в неизвестной даме невольно привлекало сердце и с улыбкою «а ! – сказала она вошла в неизвестной даме невольно привлекало сердце и с улыбкою «а ! – сказала она вошла в неизвестной даме невольно привлекало сердце и\n",
            "Epoch 14/50\n",
            "Current loss T = 0.05124856255422053\n",
            "Current loss V = 0.0747020069726319\n",
            "Я застал его в саду. Он осматривал яблони, обнаженные дыханием осени, и с помощию старого садовника  бережно их грозные бастионы , что с тем и с тем и с тем и с тем и с тем и с тем и с тем и с тем и с тем и с тем и с тем и с тем и с тем и с тем и с тем и с тем и с тем и с тем и с тем и с тем и с тем и с тем и с тем и с тем и с тем и с тем и с тем и с тем и с тем и с тем и с тем и с\n",
            "Epoch 15/50\n",
            "Current loss T = 0.030049502751255106\n",
            "Current loss V = 0.0577498282122883\n",
            "Я застал его в саду. Он осматривал яблони, обнаженные дыханием осени, и с помощию старого садовника  бережно их вдесятеро увеличилось со мною , что он был в чем свет ее , что он был в чем свет ее , что он был в чем свет ее , что он был в чем свет ее , что он был в чем свет ее , что он был в чем свет ее , что он был в чем свет ее , что он был в чем свет ее , что он был в чем свет ее , что он был в чем свет ее , что он был в чем свет ее , что он был в чем\n",
            "Epoch 16/50\n",
            "Current loss T = 0.02148345865252604\n",
            "Current loss V = 0.05413607670637141\n",
            "Я застал его в саду. Он осматривал яблони, обнаженные дыханием осени, и с помощию старого садовника  бережно их грозные бастионы , что , что , что , что , что , что , что , что , что , что , что , что , что , что , что , что , что , что , что , что , что , что , что , что , что , что , что , что , что , что , что , что , что , что , что , что , что , что , что , что , что , что , что , что , что , что , что , что\n",
            "Epoch 17/50\n",
            "Current loss T = 0.01656244580908196\n",
            "Current loss V = 0.0503758976448955\n",
            "Я застал его в саду. Он осматривал яблони, обнаженные дыханием осени, и с помощию старого садовника  бережно их рысьим , что вы , что вы , что вы , что вы , что вы , что вы , что вы , что вы , что вы , что вы , что вы , что вы , что вы , что вы , что вы , что вы , что вы , что вы , что вы , что вы , что вы , что вы , что вы , что вы , что вы , что вы , что вы , что вы , что вы , что вы , что вы , что вы ,\n",
            "Epoch 18/50\n",
            "Current loss T = 0.013651836009861048\n",
            "Current loss V = 0.045833542943230214\n",
            "Я застал его в саду. Он осматривал яблони, обнаженные дыханием осени, и с помощию старого садовника  бережно их поминутные возмущения , что вы , что вы , что вы , что вы , что вы , что вы , что вы , что вы , что вы , что вы , что вы , что вы , что вы , что вы , что вы , что вы , что вы , что вы , что вы , что вы , что вы , что вы , что вы , что вы , что вы , что вы , что вы , что вы , что вы , что вы , что вы , что вы\n",
            "Epoch 19/50\n",
            "Current loss T = 0.013838222778537562\n",
            "Current loss V = 0.04605029657523938\n",
            "Я застал его в саду. Он осматривал яблони, обнаженные дыханием осени, и с помощию старого садовника  бережно их повышали в то , что он был в то , что он был в то , что он был в то , что он был в то , что он был в то , что он был в то , что он был в то , что он был в то , что он был в то , что он был в то , что он был в то , что он был в то , что он был в то , что он был в то , что он был в то , что он был в\n",
            "Epoch 20/50\n",
            "Current loss T = 0.01278136493498538\n",
            "Current loss V = 0.04082658436350726\n",
            "Я застал его в саду. Он осматривал яблони, обнаженные дыханием осени, и с помощию старого садовника  бережно их повышали в дорогу . я в дорогу . я в дорогу . я в дорогу . я в дорогу . я в дорогу . я в дорогу . я в дорогу . я в дорогу . я в дорогу . я в дорогу . я в дорогу . я в дорогу . я в дорогу . я в дорогу . я в дорогу . я в дорогу . я в дорогу . я в дорогу . я в дорогу . я в дорогу . я в дорогу . я в дорогу . я в дорогу . я в\n",
            "Epoch 21/50\n",
            "Current loss T = 0.024147589882321317\n",
            "Current loss V = 0.07699362327155147\n",
            "Я застал его в саду. Он осматривал яблони, обнаженные дыханием осени, и с помощию старого садовника  бережно их увидали . я был памятник в какое время бурана как ему , что не мог оправдаться , что не мог оправдаться , что не мог оправдаться , что не мог оправдаться , что не мог оправдаться , что не мог оправдаться , что не мог оправдаться , что не мог оправдаться , что не мог оправдаться , что не мог оправдаться , что не мог оправдаться , что не мог оправдаться , что не мог оправдаться , что не мог оправдаться , что не мог оправдаться , что не мог оправдаться , что не мог оправдаться , что\n",
            "Epoch 22/50\n",
            "Current loss T = 0.022880598373425577\n",
            "Current loss V = 0.03261879654441932\n",
            "Я застал его в саду. Он осматривал яблони, обнаженные дыханием осени, и с помощию старого садовника  бережно их вдесятеро увеличилось со мною , что он был в оренбурге о том , что он был в оренбурге о том , что он был в оренбурге о том , что он был в оренбурге о том , что он был в оренбурге о том , что он был в оренбурге о том , что он был в оренбурге о том , что он был в оренбурге о том , что он был в оренбурге о том , что он был в оренбурге о том , что он был в оренбурге о том , что он был в оренбурге\n",
            "Epoch 23/50\n",
            "Current loss T = 0.011937716455314978\n",
            "Current loss V = 0.03148779597653924\n",
            "Я застал его в саду. Он осматривал яблони, обнаженные дыханием осени, и с помощию старого садовника  бережно их в чем это пустые слухи и , что он был в чем это пустые слухи и , что он был в чем это пустые слухи и , что он был в чем это пустые слухи и , что он был в чем это пустые слухи и , что он был в чем это пустые слухи и , что он был в чем это пустые слухи и , что он был в чем это пустые слухи и , что он был в чем это пустые слухи и , что он был в чем это пустые слухи и , что\n",
            "Epoch 24/50\n",
            "Current loss T = 0.008475248967737865\n",
            "Current loss V = 0.027213986905022663\n",
            "Я застал его в саду. Он осматривал яблони, обнаженные дыханием осени, и с помощию старого садовника  бережно их по крайней мере на меня в то , что ты , что ты , что ты , что ты , что ты , что ты , что ты , что ты , что ты , что ты , что ты , что ты , что ты , что ты , что ты , что ты , что ты , что ты , что ты , что ты , что ты , что ты , что ты , что ты , что ты , что ты , что ты , что ты , что ты , что ты ,\n",
            "Epoch 25/50\n",
            "Current loss T = 0.0067668009405761126\n",
            "Current loss V = 0.025300980378815112\n",
            "Я застал его в саду. Он осматривал яблони, обнаженные дыханием осени, и с помощию старого садовника  бережно их метать пригоршнями . – сказал он был в то за что ты и с ним , что ты и с ним , что ты и с ним , что ты и с ним , что ты и с ним , что ты и с ним , что ты и с ним , что ты и с ним , что ты и с ним , что ты и с ним , что ты и с ним , что ты и с ним , что ты и с ним , что ты и с ним , что ты и с\n",
            "Epoch 26/50\n",
            "Current loss T = 0.005906441619117686\n",
            "Current loss V = 0.024636698428624898\n",
            "Я застал его в саду. Он осматривал яблони, обнаженные дыханием осени, и с помощию старого садовника  бережно их грозные лица , что ты и с ним , что ты и с ним , что ты и с ним , что ты и с ним , что ты и с ним , что ты и с ним , что ты и с ним , что ты и с ним , что ты и с ним , что ты и с ним , что ты и с ним , что ты и с ним , что ты и с ним , что ты и с ним , что ты и с ним , что ты и с ним\n",
            "Epoch 27/50\n",
            "Current loss T = 0.005718833071523887\n",
            "Current loss V = 0.025666287012173345\n",
            "Я застал его в саду. Он осматривал яблони, обнаженные дыханием осени, и с помощию старого садовника  бережно их обнять , что скажет батюшка , что скажет батюшка , что скажет батюшка , что скажет батюшка , что скажет батюшка , что скажет батюшка , что скажет батюшка , что скажет батюшка , что скажет батюшка , что скажет батюшка , что скажет батюшка , что скажет батюшка , что скажет батюшка , что скажет батюшка , что скажет батюшка , что скажет батюшка , что скажет батюшка , что скажет батюшка , что скажет батюшка , что скажет батюшка , что скажет батюшка , что скажет батюшка , что скажет батюшка , что скажет батюшка ,\n",
            "Epoch 28/50\n",
            "Current loss T = 0.005711060571713034\n",
            "Current loss V = 0.025334548309999535\n",
            "Я застал его в саду. Он осматривал яблони, обнаженные дыханием осени, и с помощию старого садовника  бережно их обнять , что ты придумать» . – сказал он был в то , что ты придумать» . – сказал он был в то , что ты придумать» . – сказал он был в то , что ты придумать» . – сказал он был в то , что ты придумать» . – сказал он был в то , что ты придумать» . – сказал он был в то , что ты придумать» . – сказал он был в то , что ты придумать» . – сказал он был в то , что ты придумать» . – сказал он был\n",
            "Epoch 29/50\n",
            "Current loss T = 0.008613563836063206\n",
            "Current loss V = 0.05288510039807423\n",
            "Я застал его в саду. Он осматривал яблони, обнаженные дыханием осени, и с помощию старого садовника  бережно их благоразумие и на него и на него и на него и на него и на него и на него и на него и на него и на него и на него и на него и на него и на него и на него и на него и на него и на него и на него и на него и на него и на него и на него и на него и на него и на него и на него и на него и на него и на него и на него и на него и на него и\n",
            "Epoch 30/50\n",
            "Current loss T = 0.01553318936304742\n",
            "Current loss V = 0.027060930669330782\n",
            "Я застал его в саду. Он осматривал яблони, обнаженные дыханием осени, и с помощию старого садовника  бережно развивал перевязи , что я , что я , что я , что я , что я , что я , что я , что я , что я , что я , что я , что я , что я , что я , что я , что я , что я , что я , что я , что я , что я , что я , что я , что я , что я , что я , что я , что я , что я , что я , что я , что я ,\n",
            "Epoch 31/50\n",
            "Current loss T = 0.007777703431972301\n",
            "Current loss V = 0.021974688632568146\n",
            "Я застал его в саду. Он осматривал яблони, обнаженные дыханием осени, и с помощию старого садовника  бережно их в то , что хочешь , что хочешь , что хочешь , что хочешь , что хочешь , что хочешь , что хочешь , что хочешь , что хочешь , что хочешь , что хочешь , что хочешь , что хочешь , что хочешь , что хочешь , что хочешь , что хочешь , что хочешь , что хочешь , что хочешь , что хочешь , что хочешь , что хочешь , что хочешь , что хочешь , что хочешь , что хочешь , что хочешь , что хочешь , что хочешь , что хочешь , что хочешь\n",
            "Epoch 32/50\n",
            "Current loss T = 0.005403465885227978\n",
            "Current loss V = 0.017936379914841906\n",
            "Я застал его в саду. Он осматривал яблони, обнаженные дыханием осени, и с помощию старого садовника  бережно их по крайней мере на него и , что ты , что ты , что ты , что ты , что ты , что ты , что ты , что ты , что ты , что ты , что ты , что ты , что ты , что ты , что ты , что ты , что ты , что ты , что ты , что ты , что ты , что ты , что ты , что ты , что ты , что ты , что ты , что ты , что ты , что ты , что\n",
            "Epoch 33/50\n",
            "Current loss T = 0.004286020551893393\n",
            "Current loss V = 0.018624512435065764\n",
            "Я застал его в саду. Он осматривал яблони, обнаженные дыханием осени, и с помощию старого садовника  бережно их в дорогу , что он был в дорогу , что он был в дорогу , что он был в дорогу , что он был в дорогу , что он был в дорогу , что он был в дорогу , что он был в дорогу , что он был в дорогу , что он был в дорогу , что он был в дорогу , что он был в дорогу , что он был в дорогу , что он был в дорогу , что он был в дорогу , что он был в дорогу , что он был в дорогу\n",
            "Epoch 34/50\n",
            "Current loss T = 0.005874649779364084\n",
            "Current loss V = 0.024997136711324135\n",
            "Я застал его в саду. Он осматривал яблони, обнаженные дыханием осени, и с помощию старого садовника  бережно их в службу к нему от него и с ним , что тебе квартира . – сказал он был в службу к нему от него и с ним , что тебе квартира . – сказал он был в службу к нему от него и с ним , что тебе квартира . – сказал он был в службу к нему от него и с ним , что тебе квартира . – сказал он был в службу к нему от него и с ним , что тебе квартира . – сказал он был в службу к нему от него и с\n",
            "Epoch 35/50\n",
            "Current loss T = 0.008177700145146495\n",
            "Current loss V = 0.020261206394090615\n",
            "Я застал его в саду. Он осматривал яблони, обнаженные дыханием осени, и с помощию старого садовника  бережно их обнять , что ты , что ты , что ты , что ты , что ты , что ты , что ты , что ты , что ты , что ты , что ты , что ты , что ты , что ты , что ты , что ты , что ты , что ты , что ты , что ты , что ты , что ты , что ты , что ты , что ты , что ты , что ты , что ты , что ты , что ты , что ты , что ты ,\n",
            "Epoch 36/50\n",
            "Current loss T = 0.0054367814585160115\n",
            "Current loss V = 0.019692411158712685\n",
            "Я застал его в саду. Он осматривал яблони, обнаженные дыханием осени, и с помощию старого садовника  бережно их предводителю . – сказал он был в самом деле , что он был в самом деле , что он был в самом деле , что он был в самом деле , что он был в самом деле , что он был в самом деле , что он был в самом деле , что он был в самом деле , что он был в самом деле , что он был в самом деле , что он был в самом деле , что он был в самом деле , что он был в самом деле , что он был в\n",
            "Epoch 37/50\n",
            "Current loss T = 0.005440751384392094\n",
            "Current loss V = 0.017241053587364757\n",
            "Я застал его в саду. Он осматривал яблони, обнаженные дыханием осени, и с помощию старого садовника  бережно их уже тихо или не мог не мог не мог не мог не мог не мог не мог не мог не мог не мог не мог не мог не мог не мог не мог не мог не мог не мог не мог не мог не мог не мог не мог не мог не мог не мог не мог не мог не мог не мог не мог не мог не мог не мог не мог не мог не мог не мог не мог не мог не мог не мог не мог не мог не мог не мог не мог не\n",
            "Epoch 38/50\n",
            "Current loss T = 0.004602268715322131\n",
            "Current loss V = 0.019150297647094115\n",
            "Я застал его в саду. Он осматривал яблони, обнаженные дыханием осени, и с помощию старого садовника  бережно их начальнику . – сказал мне , что я с ним , что я с ним , что я с ним , что я с ним , что я с ним , что я с ним , что я с ним , что я с ним , что я с ним , что я с ним , что я с ним , что я с ним , что я с ним , что я с ним , что я с ним , что я с ним , что я с ним , что я с ним , что я\n",
            "Epoch 39/50\n",
            "Current loss T = 0.004357455128798507\n",
            "Current loss V = 0.015001532938691805\n",
            "Я застал его в саду. Он осматривал яблони, обнаженные дыханием осени, и с помощию старого садовника  бережно их начальнику . я не мог не мог не мог не мог не мог не мог не мог не мог не мог не мог не мог не мог не мог не мог не мог не мог не мог не мог не мог не мог не мог не мог не мог не мог не мог не мог не мог не мог не мог не мог не мог не мог не мог не мог не мог не мог не мог не мог не мог не мог не мог не мог не мог не мог не мог не мог не мог не\n",
            "Epoch 40/50\n",
            "Current loss T = 0.003784658908431526\n",
            "Current loss V = 0.012240147031979266\n",
            "Я застал его в саду. Он осматривал яблони, обнаженные дыханием осени, и с помощию старого садовника  бережно их рысьим шапкам и с ними . – отвечал он был совершенно с ними . – отвечал он был совершенно с ними . – отвечал он был совершенно с ними . – отвечал он был совершенно с ними . – отвечал он был совершенно с ними . – отвечал он был совершенно с ними . – отвечал он был совершенно с ними . – отвечал он был совершенно с ними . – отвечал он был совершенно с ними . – отвечал он был совершенно с ними . – отвечал он был совершенно с ними . – отвечал он был\n",
            "Epoch 41/50\n",
            "Current loss T = 0.0031077054238967568\n",
            "Current loss V = 0.010878480557273982\n",
            "Я застал его в саду. Он осматривал яблони, обнаженные дыханием осени, и с помощию старого садовника  бережно их рысьим шапкам и с нетерпением стали было невозможно . – сказал он был не мог не мог не мог не мог не мог не мог не мог не мог не мог не мог не мог не мог не мог не мог не мог не мог не мог не мог не мог не мог не мог не мог не мог не мог не мог не мог не мог не мог не мог не мог не мог не мог не мог не мог не мог не мог не мог не мог не мог не мог не мог не мог не\n",
            "Epoch 42/50\n",
            "Current loss T = 0.0030723395091643412\n",
            "Current loss V = 0.012598338649478374\n",
            "Я застал его в саду. Он осматривал яблони, обнаженные дыханием осени, и с помощию старого садовника  бережно их рысьим шапкам и с убийцами , что ты , что ты , что ты , что ты , что ты , что ты , что ты , что ты , что ты , что ты , что ты , что ты , что ты , что ты , что ты , что ты , что ты , что ты , что ты , что ты , что ты , что ты , что ты , что ты , что ты , что ты , что ты , что ты , что ты , что ты , что ты\n",
            "Epoch 43/50\n",
            "Current loss T = 0.011933131618567492\n",
            "Current loss V = 0.01982821206306776\n",
            "Я застал его в саду. Он осматривал яблони, обнаженные дыханием осени, и с помощию старого садовника  бережно их начальнику . – сказал он был я не мог быть , что , что , что , что , что , что , что , что , что , что , что , что , что , что , что , что , что , что , что , что , что , что , что , что , что , что , что , что , что , что , что , что , что , что , что , что , что , что , что , что , что , что , что , что\n",
            "Epoch 44/50\n",
            "Current loss T = 0.008510916288205326\n",
            "Current loss V = 0.010131283028467887\n",
            "Я застал его в саду. Он осматривал яблони, обнаженные дыханием осени, и с помощию старого садовника  бережно развивал перевязи , что ж сюда ваши дела но я не мог не мог не мог не мог не мог не мог не мог не мог не мог не мог не мог не мог не мог не мог не мог не мог не мог не мог не мог не мог не мог не мог не мог не мог не мог не мог не мог не мог не мог не мог не мог не мог не мог не мог не мог не мог не мог не мог не мог не мог не мог не мог не мог не мог не\n",
            "Epoch 45/50\n",
            "Current loss T = 0.0035916799369801623\n",
            "Current loss V = 0.008422079825861458\n",
            "Я застал его в саду. Он осматривал яблони, обнаженные дыханием осени, и с помощию старого садовника  бережно развивал перевязи , что я с ним вместе с ним вместе с ним вместе с ним вместе с ним вместе с ним вместе с ним вместе с ним вместе с ним вместе с ним вместе с ним вместе с ним вместе с ним вместе с ним вместе с ним вместе с ним вместе с ним вместе с ним вместе с ним вместе с ним вместе с ним вместе с ним вместе с ним вместе с ним вместе с ним вместе с ним вместе с ним вместе с ним вместе с ним вместе с ним вместе с ним вместе с\n",
            "Epoch 46/50\n",
            "Current loss T = 0.0026791842857402355\n",
            "Current loss V = 0.008816434478900716\n",
            "Я застал его в саду. Он осматривал яблони, обнаженные дыханием осени, и с помощию старого садовника  бережно развивал перевязи , что ты и с убийцами , что ты и с убийцами , что ты и с убийцами , что ты и с убийцами , что ты и с убийцами , что ты и с убийцами , что ты и с убийцами , что ты и с убийцами , что ты и с убийцами , что ты и с убийцами , что ты и с убийцами , что ты и с убийцами , что ты и с убийцами , что ты и с убийцами , что ты и с убийцами , что ты и с убийцами ,\n",
            "Epoch 47/50\n",
            "Current loss T = 0.002583743587363413\n",
            "Current loss V = 0.005923655251530699\n",
            "Я застал его в саду. Он осматривал яблони, обнаженные дыханием осени, и с помощию старого садовника  бережно развивал перевязи , что ты , что ты , что ты , что ты , что ты , что ты , что ты , что ты , что ты , что ты , что ты , что ты , что ты , что ты , что ты , что ты , что ты , что ты , что ты , что ты , что ты , что ты , что ты , что ты , что ты , что ты , что ты , что ты , что ты , что ты , что ты , что ты ,\n",
            "Epoch 48/50\n",
            "Current loss T = 0.002200540856054775\n",
            "Current loss V = 0.005886853239759263\n",
            "Я застал его в саду. Он осматривал яблони, обнаженные дыханием осени, и с помощию старого садовника  бережно их увидали . – сказал он был свидетелем ? – сказал он был свидетелем ? – сказал он был свидетелем ? – сказал он был свидетелем ? – сказал он был свидетелем ? – сказал он был свидетелем ? – сказал он был свидетелем ? – сказал он был свидетелем ? – сказал он был свидетелем ? – сказал он был свидетелем ? – сказал он был свидетелем ? – сказал он был свидетелем ? – сказал он был свидетелем ? – сказал он был свидетелем ? – сказал он был свидетелем ? – сказал он был свидетелем ?\n",
            "Epoch 49/50\n",
            "Current loss T = 0.002468926336738142\n",
            "Current loss V = 0.006426677042692997\n",
            "Я застал его в саду. Он осматривал яблони, обнаженные дыханием осени, и с помощию старого садовника  бережно их начальнику . я не мог не мог не мог не мог не мог не мог не мог не мог не мог не мог не мог не мог не мог не мог не мог не мог не мог не мог не мог не мог не мог не мог не мог не мог не мог не мог не мог не мог не мог не мог не мог не мог не мог не мог не мог не мог не мог не мог не мог не мог не мог не мог не мог не мог не мог не мог не мог не\n"
          ]
        }
      ]
    },
    {
      "cell_type": "code",
      "source": [],
      "metadata": {
        "id": "lnvpzLiLGM0N"
      },
      "execution_count": null,
      "outputs": []
    }
  ],
  "metadata": {
    "accelerator": "GPU",
    "colab": {
      "provenance": []
    },
    "kernelspec": {
      "display_name": "Python 3",
      "name": "python3"
    },
    "language_info": {
      "name": "python"
    }
  },
  "nbformat": 4,
  "nbformat_minor": 0
}